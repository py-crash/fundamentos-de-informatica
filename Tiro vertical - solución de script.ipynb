{
 "cells": [
  {
   "cell_type": "markdown",
   "metadata": {},
   "source": [
    "# Ejercicio desafío de condicionales: El tiro vertical\n",
    "\n",
    "Podemos encontrar el problema en la [Clase 2](Clase%202%20-%20Condicionales.ipynb)"
   ]
  },
  {
   "cell_type": "markdown",
   "metadata": {},
   "source": [
    "## Solución sin utilizar funciones\n",
    "\n",
    "Para ver una mejor explicación del problema puede referirse al otro archivo: [Tiro vertical - solución con funciones.ipynb](./Tiro%20vertical%20-%20solución%20con%20funciones.ipynb)\n",
    "\n",
    "### Convención de signos\n",
    "Se toma como punto de partida siempre (0, 0), es decir a los 0 segundos la posición es 0 m. Las posiciónes arriba del punto de partida serán positivas, así como las velocidades hacia arriba serán positivas.\n",
    "\n",
    "### Solución"
   ]
  },
  {
   "cell_type": "code",
   "execution_count": 1,
   "metadata": {},
   "outputs": [
    {
     "name": "stdin",
     "output_type": "stream",
     "text": [
      "Ingrese la velocidad inicial [en m/s]:  40\n",
      "Ingrese el tiempo transcurrido [en s]:  5\n"
     ]
    },
    {
     "name": "stdout",
     "output_type": "stream",
     "text": [
      " \n",
      "Para un objeto con una velocidad inicial de 40.0 m/s, a los 5.0 segundos:\n",
      "- Su posición es 77.49999999999999 m\n",
      "- Su velocidad es -9.0 m/s\n",
      "- El objeto se encuentra en caida\n"
     ]
    }
   ],
   "source": [
    "## Pedimos primero los datos al usuario\n",
    "vel_inicial = float(input(\"Ingrese la velocidad inicial [en m/s]: \"))\n",
    "tiempo = float(input(\"Ingrese el tiempo transcurrido [en s]: \"))\n",
    "\n",
    "## Defino la acceleración de la gravedad\n",
    "aceleracion = -9.8\n",
    "\n",
    "## Calculamos primero la posición\n",
    "pos = vel_inicial*tiempo + 1/2 * aceleracion * tiempo**2\n",
    "\n",
    "## Ahora reviso, si la posición es menor a cero, el objeto llegó al piso\n",
    "if pos <= 0:\n",
    "    pos = 0\n",
    "\n",
    "## Ahora calcula la velocidad\n",
    "if pos == 0:\n",
    "    vel_instantanea = 0 # El objeto tocó el piso, por lo tanto su velocidad es 0\n",
    "else:\n",
    "    vel_instantanea = vel_inicial + aceleracion * tiempo\n",
    "\n",
    "## Nos fijamos ahora si el objeto se encuentra cayendo o subiendo\n",
    "if vel_instantanea > 0:\n",
    "    obj_en = \"El objeto se encuentra en caida\"\n",
    "elif vel_instantanea < 0:\n",
    "    obj_en = \"El objeto se encuentra en caida\"\n",
    "else: # Acá el objeto puede estar en altura máxima o en el suelo\n",
    "    if pos != 0:\n",
    "        obj_en = \"El objeto está en la altura máxima\"\n",
    "    else:\n",
    "        obj_en = \"El objeto está detenido en el piso\"\n",
    "\n",
    "## Damos las respuestas al usuario\n",
    "print(\" \")\n",
    "print(\"Para un objeto con una velocidad inicial de\", vel_inicial, \"m/s, a los\",\n",
    "      tiempo, \"segundos:\")\n",
    "print(\"- Su posición es\", pos, \"m\")\n",
    "print(\"- Su velocidad es\", vel_instantanea, \"m/s\")\n",
    "print(\"-\", obj_en)"
   ]
  },
  {
   "cell_type": "markdown",
   "metadata": {},
   "source": [
    "Acá también deveríamos probar con distintos valores de modo tal de asegurarnos que nuestro programa funciona para todos los casos que contemplamos anteriormente."
   ]
  }
 ],
 "metadata": {
  "anaconda-cloud": {},
  "kernelspec": {
   "display_name": "Python 3",
   "language": "python",
   "name": "python3"
  },
  "language_info": {
   "codemirror_mode": {
    "name": "ipython",
    "version": 3
   },
   "file_extension": ".py",
   "mimetype": "text/x-python",
   "name": "python",
   "nbconvert_exporter": "python",
   "pygments_lexer": "ipython3",
   "version": "3.6.6"
  }
 },
 "nbformat": 4,
 "nbformat_minor": 2
}
