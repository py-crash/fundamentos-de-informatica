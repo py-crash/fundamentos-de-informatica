{
 "cells": [
  {
   "cell_type": "markdown",
   "metadata": {
    "nbpresent": {
     "id": "64de540e-1794-422c-a05c-76114b0a38dc"
    }
   },
   "source": [
    "## ¿Qué es python?\n",
    "\n",
    "Un **lenguaje de programación**. Tenía como características:\n",
    "* Ser Facil de aprender\n",
    "* Interpretado\n",
    "* Multiparadigma\n",
    "* Fuertemente tipado"
   ]
  },
  {
   "cell_type": "markdown",
   "metadata": {
    "nbpresent": {
     "id": "e004aba3-5e3a-4a38-814b-0f734ab00d22"
    }
   },
   "source": [
    "### Ejercicio 1:\n",
    "Crear un programa que salude a toda la clase"
   ]
  },
  {
   "cell_type": "code",
   "execution_count": 2,
   "metadata": {
    "collapsed": false,
    "nbpresent": {
     "id": "e6d83493-83c8-4835-89dc-06ee482d95c1"
    }
   },
   "outputs": [
    {
     "name": "stdout",
     "output_type": "stream",
     "text": [
      "Hola clase\n"
     ]
    }
   ],
   "source": [
    "print(\"Hola clase\")"
   ]
  },
  {
   "cell_type": "markdown",
   "metadata": {
    "nbpresent": {
     "id": "f734ec47-8a43-4199-aa2c-380216ff3cc5"
    }
   },
   "source": [
    "### Ejercicio 2:\n",
    "Crear una variable de cada tipo que hayamos aprendido"
   ]
  },
  {
   "cell_type": "code",
   "execution_count": 3,
   "metadata": {
    "collapsed": true,
    "nbpresent": {
     "id": "f5ead9af-673a-449b-a5c6-a454e3a22e2f"
    }
   },
   "outputs": [],
   "source": [
    "real = 1.5\n",
    "entero = 2\n",
    "cadena = \"Agustin\"\n",
    "# Y cual falta?\n",
    "boleanos = True"
   ]
  },
  {
   "cell_type": "markdown",
   "metadata": {},
   "source": [
    "### Ejercicio 3:\n",
    "Crear un programa que pida al usuario dos números e imprima:\n",
    "* La suma de ambos\n",
    "* La diferencia del primero respecto segundo\n",
    "* Su producto\n",
    "* La división del primero por el segundo\n",
    "* La potencia del primero elevado al sugundo\n"
   ]
  },
  {
   "cell_type": "code",
   "execution_count": 4,
   "metadata": {
    "collapsed": false,
    "nbpresent": {
     "id": "00977e02-9c9d-4573-b48a-6493a6e686bb"
    }
   },
   "outputs": [
    {
     "name": "stdout",
     "output_type": "stream",
     "text": [
      "ingrese un Número3\n",
      "ingrese otro Número5\n"
     ]
    }
   ],
   "source": [
    "numero_1 = input(\"ingrese un Número\")\n",
    "numero_2 = input(\"ingrese otro Número\")"
   ]
  },
  {
   "cell_type": "code",
   "execution_count": 9,
   "metadata": {
    "collapsed": false
   },
   "outputs": [],
   "source": [
    "numero_1 = int(numero_1)\n",
    "numero_2 = int(numero_2)"
   ]
  },
  {
   "cell_type": "code",
   "execution_count": 13,
   "metadata": {
    "collapsed": false
   },
   "outputs": [],
   "source": [
    "suma = numero_1 + numero_2\n",
    "resta = numero_1 - numero_2\n",
    "multiplicacion = numero_1 * numero_2\n",
    "division = numero_1 / numero_2\n",
    "potencia = numero_1 ** numero_2"
   ]
  },
  {
   "cell_type": "code",
   "execution_count": 17,
   "metadata": {
    "collapsed": false
   },
   "outputs": [
    {
     "name": "stdout",
     "output_type": "stream",
     "text": [
      "La suma es 8\n",
      "La resta es -2\n",
      "la multiplicación es 15\n",
      "la division es 0.6\n",
      "la potencia es 243\n"
     ]
    }
   ],
   "source": [
    "print(\"La suma es\", suma)\n",
    "print(\"La resta es\", resta)\n",
    "print(\"la multiplicación es\", multiplicacion)\n",
    "print(\"la division es\", division)\n",
    "print(\"la potencia es\", potencia)"
   ]
  },
  {
   "cell_type": "markdown",
   "metadata": {},
   "source": [
    "### Ejecicio 4:\n",
    "Realice en una celda un programa que convierta un número ingresado de metros a centímetros"
   ]
  },
  {
   "cell_type": "code",
   "execution_count": 21,
   "metadata": {
    "collapsed": false
   },
   "outputs": [
    {
     "name": "stdout",
     "output_type": "stream",
     "text": [
      "ingrese una distancia en metros1.5\n",
      "la distancia en cm es 150.0\n"
     ]
    }
   ],
   "source": [
    "numero_en_metros = input(\"ingrese una distancia en metros\")\n",
    "numero_en_metros = float(numero_en_metros)\n",
    "numero_en_cm = numero_en_metros*100\n",
    "print(\"la distancia en cm es\", numero_en_cm)"
   ]
  },
  {
   "cell_type": "code",
   "execution_count": 22,
   "metadata": {
    "collapsed": true
   },
   "outputs": [],
   "source": [
    "def mts2cm(dist_mts):\n",
    "    dist_mts = float(dist_mts)\n",
    "    dist_cm = dist_mts * 100\n",
    "    return dist_cm"
   ]
  },
  {
   "cell_type": "code",
   "execution_count": 25,
   "metadata": {
    "collapsed": false
   },
   "outputs": [
    {
     "name": "stdout",
     "output_type": "stream",
     "text": [
      "escriba una distacia en mts3\n",
      "La distancia en cm es 300.0\n"
     ]
    }
   ],
   "source": [
    "metros = input(\"escriba una distacia en mts\")\n",
    "print(\"La distancia en cm es\",mts2cm(metros))"
   ]
  },
  {
   "cell_type": "markdown",
   "metadata": {},
   "source": [
    "### Ejercicio 5: \n",
    "Crear una función que convierta una temperatura dada en grados celcius la convierta a grados Farenheit"
   ]
  },
  {
   "cell_type": "code",
   "execution_count": 26,
   "metadata": {
    "collapsed": true
   },
   "outputs": [],
   "source": [
    "def celcius_a_farenheit(temp_C):\n",
    "    temp_F = temp_C*9/5 + 32\n",
    "    return temp_F"
   ]
  },
  {
   "cell_type": "code",
   "execution_count": 28,
   "metadata": {
    "collapsed": false
   },
   "outputs": [
    {
     "data": {
      "text/plain": [
       "212.0"
      ]
     },
     "execution_count": 28,
     "metadata": {},
     "output_type": "execute_result"
    }
   ],
   "source": [
    "celcius_a_farenheit(100)"
   ]
  },
  {
   "cell_type": "markdown",
   "metadata": {},
   "source": [
    "### Ejercicio 6:\n",
    "Crear una función que convierta una temperatura dada en grados Kelvin la convierta a grados Farenheit"
   ]
  },
  {
   "cell_type": "code",
   "execution_count": 29,
   "metadata": {
    "collapsed": true
   },
   "outputs": [],
   "source": [
    "def kelvin_a_farenheit(temp_k):\n",
    "    temp_celcius = temp_k - 273.15\n",
    "    temp_f = celcius_a_farenheit(temp_celcius)\n",
    "    return temp_f"
   ]
  },
  {
   "cell_type": "code",
   "execution_count": 30,
   "metadata": {
    "collapsed": false
   },
   "outputs": [
    {
     "data": {
      "text/plain": [
       "32.0"
      ]
     },
     "execution_count": 30,
     "metadata": {},
     "output_type": "execute_result"
    }
   ],
   "source": [
    "kelvin_a_farenheit(273.15)"
   ]
  }
 ],
 "metadata": {
  "anaconda-cloud": {},
  "kernelspec": {
   "display_name": "Python [conda root]",
   "language": "python",
   "name": "conda-root-py"
  },
  "language_info": {
   "codemirror_mode": {
    "name": "ipython",
    "version": 3
   },
   "file_extension": ".py",
   "mimetype": "text/x-python",
   "name": "python",
   "nbconvert_exporter": "python",
   "pygments_lexer": "ipython3",
   "version": "3.5.2"
  },
  "nbpresent": {
   "slides": {
    "418c99dd-bd85-42fb-a3e6-fb7aee67c4cf": {
     "id": "418c99dd-bd85-42fb-a3e6-fb7aee67c4cf",
     "prev": "b28ff143-a5e7-4198-839c-30e918b77794",
     "regions": {
      "3385f71e-0400-4942-b1a0-646f79fe940b": {
       "attrs": {
        "height": 0.8,
        "width": 0.8,
        "x": 0.1,
        "y": 0.1
       },
       "content": {
        "cell": "f5ead9af-673a-449b-a5c6-a454e3a22e2f",
        "part": "whole"
       },
       "id": "3385f71e-0400-4942-b1a0-646f79fe940b"
      }
     }
    },
    "45312cfc-698b-4a53-9dd3-39ad15724452": {
     "id": "45312cfc-698b-4a53-9dd3-39ad15724452",
     "prev": null,
     "regions": {
      "cf5d3a54-f6e0-4c80-9e6f-aa346dd5df73": {
       "attrs": {
        "height": 0.8,
        "width": 0.8,
        "x": 0.1,
        "y": 0.1
       },
       "content": {
        "cell": "64de540e-1794-422c-a05c-76114b0a38dc",
        "part": "whole"
       },
       "id": "cf5d3a54-f6e0-4c80-9e6f-aa346dd5df73"
      }
     }
    },
    "b07357c3-666d-45be-881a-44d8871901f3": {
     "id": "b07357c3-666d-45be-881a-44d8871901f3",
     "prev": "d5021d66-6055-4481-aef0-a12fb939f657",
     "regions": {
      "66355481-6e00-4d18-bbdf-8edc1d7bbc8d": {
       "attrs": {
        "height": 0.8,
        "width": 0.8,
        "x": 0.1,
        "y": 0.1
       },
       "content": {
        "cell": "8d675fe8-bb1e-4d12-8214-faaf20751f71",
        "part": "whole"
       },
       "id": "66355481-6e00-4d18-bbdf-8edc1d7bbc8d"
      }
     }
    },
    "b28ff143-a5e7-4198-839c-30e918b77794": {
     "id": "b28ff143-a5e7-4198-839c-30e918b77794",
     "prev": "c4252237-61ce-4c6b-aa02-74774f652b4e",
     "regions": {
      "4586d165-386e-4767-9218-1645dd50a6d4": {
       "attrs": {
        "height": 0.8,
        "width": 0.8,
        "x": 0.1,
        "y": 0.1
       },
       "content": {
        "cell": "f734ec47-8a43-4199-aa2c-380216ff3cc5",
        "part": "whole"
       },
       "id": "4586d165-386e-4767-9218-1645dd50a6d4"
      }
     }
    },
    "c4252237-61ce-4c6b-aa02-74774f652b4e": {
     "id": "c4252237-61ce-4c6b-aa02-74774f652b4e",
     "prev": "feb43cba-077f-4e4a-b8e2-3abf313747a6",
     "regions": {
      "f93356fc-c4f1-4213-b8c0-259efaa17ec9": {
       "attrs": {
        "height": 0.8,
        "width": 0.8,
        "x": 0.1,
        "y": 0.1
       },
       "content": {
        "cell": "e6d83493-83c8-4835-89dc-06ee482d95c1",
        "part": "whole"
       },
       "id": "f93356fc-c4f1-4213-b8c0-259efaa17ec9"
      }
     }
    },
    "d5021d66-6055-4481-aef0-a12fb939f657": {
     "id": "d5021d66-6055-4481-aef0-a12fb939f657",
     "prev": "418c99dd-bd85-42fb-a3e6-fb7aee67c4cf",
     "regions": {
      "d03ba02e-ca9e-4358-ace4-a2a2f3a3898a": {
       "attrs": {
        "height": 0.8,
        "width": 0.8,
        "x": 0.1,
        "y": 0.1
       },
       "content": {
        "cell": "00977e02-9c9d-4573-b48a-6493a6e686bb",
        "part": "whole"
       },
       "id": "d03ba02e-ca9e-4358-ace4-a2a2f3a3898a"
      }
     }
    },
    "feb43cba-077f-4e4a-b8e2-3abf313747a6": {
     "id": "feb43cba-077f-4e4a-b8e2-3abf313747a6",
     "prev": "45312cfc-698b-4a53-9dd3-39ad15724452",
     "regions": {
      "eb4be71a-ebde-4595-9625-e141475eede1": {
       "attrs": {
        "height": 0.8,
        "width": 0.8,
        "x": 0.1,
        "y": 0.1
       },
       "content": {
        "cell": "e004aba3-5e3a-4a38-814b-0f734ab00d22",
        "part": "whole"
       },
       "id": "eb4be71a-ebde-4595-9625-e141475eede1"
      }
     }
    }
   },
   "themes": {}
  }
 },
 "nbformat": 4,
 "nbformat_minor": 1
}
