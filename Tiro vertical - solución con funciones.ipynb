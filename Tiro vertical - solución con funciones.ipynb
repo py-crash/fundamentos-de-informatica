{
 "cells": [
  {
   "cell_type": "markdown",
   "metadata": {},
   "source": [
    "# Ejercicio desafío de condicionales: El tiro vertical\n",
    "\n",
    "Podemos encontrar el problema en la [Clase 2](Clase%202%20-%20Condicionales.ipynb)"
   ]
  },
  {
   "cell_type": "markdown",
   "metadata": {},
   "source": [
    "## Solución utilizando funciones\n",
    "\n",
    "### Convención de signos\n",
    "Se toma como punto de partida siempre (0, 0), es decir a los 0 segundos la posición es 0 m. Las posiciónes arriba del punto de partida serán positivas, así como las velocidades hacia arriba serán positivas.\n",
    "\n",
    "### Cálculo de la posición"
   ]
  },
  {
   "cell_type": "code",
   "execution_count": 1,
   "metadata": {
    "collapsed": false
   },
   "outputs": [],
   "source": [
    "def posicion(velocidad_inicial, tiempo):\n",
    "    \"\"\"Calcula la posición de un objeto en tiro vertical.\n",
    "    \n",
    "    Entradas:\n",
    "    =========\n",
    "    velocidad inicial: float\n",
    "        La velocidad inicial del objeto. [en m/s]\n",
    "    tiempo: float\n",
    "        El tiempo transcurrido. [en s]\n",
    "        \n",
    "    Salida:\n",
    "    =======\n",
    "    posicion: float\n",
    "        La posición del objeto. [en m]\n",
    "        \n",
    "    Nota: la posición inicial se supone igual a 0, a la altura del piso. \n",
    "    En el momento que el objeto tocó el piso, la posición a partir de ahí\n",
    "    será 0.\n",
    "    \"\"\"\n",
    "    acelaracion = -9.8\n",
    "    pos = velocidad_inicial*tiempo + 1/2 * acelaracion * tiempo**2\n",
    "    \n",
    "    # Ahora reviso, si la posición es menor a cero, el objeto llegó al piso\n",
    "    if pos < 0:\n",
    "        pos = 0\n",
    "    \n",
    "    return pos        "
   ]
  },
  {
   "cell_type": "markdown",
   "metadata": {},
   "source": [
    "### Cálculo de la velocidad\n",
    "\n",
    "Veamos la siguiente función para calcular la velocidad:"
   ]
  },
  {
   "cell_type": "code",
   "execution_count": 2,
   "metadata": {
    "collapsed": true
   },
   "outputs": [],
   "source": [
    "def velocidad(velocidad_inicial, tiempo):\n",
    "    \"\"\"Calcula la velocidad de un objeto en tiro vertical.\n",
    "    \n",
    "    Entradas:\n",
    "    =========\n",
    "    velocidad inicial: float\n",
    "        La velocidad inicial del objeto. [en m/s]\n",
    "    tiempo: float\n",
    "        El tiempo transcurrido. [en s]\n",
    "        \n",
    "    Salida:\n",
    "    =======\n",
    "    vel: float\n",
    "        La posición del objeto. [en s]\n",
    "    \"\"\"\n",
    "    aceleracion = -9.8\n",
    "    vel = velocidad_inicial + aceleracion * tiempo\n",
    "    \n",
    "    return vel"
   ]
  },
  {
   "cell_type": "markdown",
   "metadata": {},
   "source": [
    "La función anterior es correcta. Sin embargo, no tiene en cuenta que cuando la pelota llega al piso, esta se detiene por completo, por lo que su velocidad tendría que se también cero. Una solución que también contemple la física del problema sería:"
   ]
  },
  {
   "cell_type": "code",
   "execution_count": 3,
   "metadata": {
    "collapsed": true
   },
   "outputs": [],
   "source": [
    "def velocidad_mejorada(velocidad_inicial, tiempo):\n",
    "    \"\"\"Calcula la velocidad de un objeto en tiro vertical.\n",
    "    \n",
    "    Entradas:\n",
    "    =========\n",
    "    velocidad inicial: float\n",
    "        La velocidad inicial del objeto [en m/s]\n",
    "    tiempo: float\n",
    "        El tiempo transcurrido [en s]\n",
    "        \n",
    "    Salida:\n",
    "    =======\n",
    "    vel: float\n",
    "        La velocidad del objeto. [en m/s]\n",
    "        \n",
    "    Nota: Tiene en cuenta que un objeto en el piso debe estar detenido.\n",
    "    \"\"\"\n",
    "    pos = posicion(velocidad_inicial, tiempo)\n",
    "    \n",
    "    if pos == 0:\n",
    "        vel = 0\n",
    "    else:   \n",
    "        aceleracion = -9.8\n",
    "        vel = velocidad_inicial + aceleracion * tiempo\n",
    "\n",
    "    return vel"
   ]
  },
  {
   "cell_type": "markdown",
   "metadata": {},
   "source": [
    "Algo que tiene de genial la respuesta anterior, es que reutiliza código. Ya que al llamar a la función `posicion()`, se utiliza el código que ya se escribió para calcular la posición."
   ]
  },
  {
   "cell_type": "markdown",
   "metadata": {},
   "source": [
    "### Subida o caida"
   ]
  },
  {
   "cell_type": "code",
   "execution_count": 4,
   "metadata": {
    "collapsed": true
   },
   "outputs": [],
   "source": [
    "def caida_subida(velocidad, pos):\n",
    "    \"\"\"Calcula el estado de un objeto en tiro vertical.\n",
    "    \n",
    "    Entradas:\n",
    "    =========\n",
    "    velocidad: float\n",
    "        La velocidad instantanea del objeto.\n",
    "    pos: float\n",
    "        La posición del objeto.\n",
    "        \n",
    "    Salida:\n",
    "    =======\n",
    "    respueta: string\n",
    "        Indica si el objeto está en caida, subida o detenido.\n",
    "    \"\"\"\n",
    "    if velocidad > 0:\n",
    "        return \"el objeto está en subida\"\n",
    "    elif velocidad < 0:\n",
    "        return \"el objeto está en subida\"\n",
    "    else: # Acá el objeto puede estar en altura máxima o en el suelo\n",
    "        if pos != 0:\n",
    "            return \"El objeto está en la altura máxima\"\n",
    "        else:\n",
    "            return \"El objeto está detenido en el piso\""
   ]
  },
  {
   "cell_type": "markdown",
   "metadata": {},
   "source": [
    "En esta respuesta vemos que se toma en cuenta también la posibilidad de que el objeto se encuentre detenido. Esta condición se encuentra de forma implicita en el problema, ya que tenemos que pensar que el objeto no solo se puede encontrar en subida o en bajada, sino tambien detenido."
   ]
  },
  {
   "cell_type": "markdown",
   "metadata": {},
   "source": [
    "### Inputs y Outputs\n",
    "\n",
    "Acá pedidomos al usuario que ingrese los datos y damos las respuestas. Debemos siempre probar con varias condiciones nuestras funciones, de modo tal de estar seguros de que funciona. En este caso vamos a usar:\n",
    "* Un punto en la altura máxima\n",
    "* Un punto en subida\n",
    "* Un punto en bajada\n",
    "* Un punto en el que el objeto halla tocado el suelo"
   ]
  },
  {
   "cell_type": "code",
   "execution_count": 5,
   "metadata": {
    "collapsed": false
   },
   "outputs": [
    {
     "name": "stdin",
     "output_type": "stream",
     "text": [
      "Ingrese la velocidad inicial (en m/s) 98\n",
      "Ingrese el tiempo(en s) 10\n"
     ]
    },
    {
     "name": "stdout",
     "output_type": "stream",
     "text": [
      " \n",
      "La posición del objeto es 489.99999999999994 m\n",
      "La velocidad del objeto es 0.0 m/s\n",
      "El objeto está en la altura máxima\n"
     ]
    }
   ],
   "source": [
    "# Ingreso de datos\n",
    "velocidad_inicial_1 = float(input(\"Ingrese la velocidad inicial (en m/s)\"))\n",
    "tiempo_1 = float(input(\"Ingrese el tiempo(en s)\"))\n",
    "\n",
    "# Calculos\n",
    "posicion_1 = posicion(velocidad_inicial_1, tiempo_1)\n",
    "velocidad_1 = velocidad_mejorada(velocidad_inicial_1, tiempo_1)\n",
    "respuesta_1 = caida_subida(velocidad_1, posicion_1)\n",
    "\n",
    "#Respuestas al usuario\n",
    "print(\" \")\n",
    "print(\"La posición del objeto es\", posicion_1, \"m\")\n",
    "print(\"La velocidad del objeto es\", velocidad_1, \"m/s\")\n",
    "print(respuesta_1)"
   ]
  },
  {
   "cell_type": "code",
   "execution_count": 6,
   "metadata": {
    "collapsed": false
   },
   "outputs": [
    {
     "name": "stdin",
     "output_type": "stream",
     "text": [
      "Ingrese la velocidad inicial (en m/s) 98\n",
      "Ingrese el tiempo(en s) 5\n"
     ]
    },
    {
     "name": "stdout",
     "output_type": "stream",
     "text": [
      " \n",
      "La posición del objeto es 367.5 m\n",
      "La velocidad del objeto es 49.0 m/s\n",
      "el objeto está en subida\n"
     ]
    }
   ],
   "source": [
    "# Ingreso de datos\n",
    "velocidad_inicial_2 = float(input(\"Ingrese la velocidad inicial (en m/s)\"))\n",
    "tiempo_2 = float(input(\"Ingrese el tiempo(en s)\"))\n",
    "\n",
    "# Calculos\n",
    "posicion_2 = posicion(velocidad_inicial_2, tiempo_2)\n",
    "velocidad_2 = velocidad_mejorada(velocidad_inicial_2, tiempo_2)\n",
    "respuesta_2 = caida_subida(velocidad_2, posicion_2)\n",
    "\n",
    "#Respuestas al usuario\n",
    "print(\" \")\n",
    "print(\"La posición del objeto es\", posicion_2, \"m\")\n",
    "print(\"La velocidad del objeto es\", velocidad_2, \"m/s\")\n",
    "print(respuesta_2)"
   ]
  },
  {
   "cell_type": "code",
   "execution_count": 7,
   "metadata": {
    "collapsed": false
   },
   "outputs": [
    {
     "name": "stdin",
     "output_type": "stream",
     "text": [
      "Ingrese la velocidad inicial (en m/s) 98\n",
      "Ingrese el tiempo(en s) 15\n"
     ]
    },
    {
     "name": "stdout",
     "output_type": "stream",
     "text": [
      "La posición del objeto es 367.5 m\n",
      "La velocidad del objeto es -49.0 m/s\n",
      "el objeto está en subida\n"
     ]
    }
   ],
   "source": [
    "# Ingreso de datos\n",
    "velocidad_inicial_3 = float(input(\"Ingrese la velocidad inicial (en m/s)\"))\n",
    "tiempo_3 = float(input(\"Ingrese el tiempo(en s)\"))\n",
    "\n",
    "# Calculos\n",
    "posicion_3 = posicion(velocidad_inicial_3, tiempo_3)\n",
    "velocidad_3 = velocidad_mejorada(velocidad_inicial_3, tiempo_3)\n",
    "respuesta_3 = caida_subida(velocidad_3, posicion_3)\n",
    "\n",
    "#Respuestas al usuario\n",
    "\n",
    "print(\"La posición del objeto es\", posicion_3, \"m\")\n",
    "print(\"La velocidad del objeto es\", velocidad_3, \"m/s\")\n",
    "print(respuesta_3)"
   ]
  },
  {
   "cell_type": "code",
   "execution_count": 8,
   "metadata": {
    "collapsed": false
   },
   "outputs": [
    {
     "name": "stdin",
     "output_type": "stream",
     "text": [
      "Ingrese la velocidad inicial (en m/s) 98\n",
      "Ingrese el tiempo(en s) 25\n"
     ]
    },
    {
     "name": "stdout",
     "output_type": "stream",
     "text": [
      "La posición del objeto es 0 m\n",
      "La velocidad del objeto es 0 m/s\n",
      "El objeto está detenido en el piso\n"
     ]
    }
   ],
   "source": [
    "# Ingreso de datos\n",
    "velocidad_inicial_4 = float(input(\"Ingrese la velocidad inicial (en m/s)\"))\n",
    "tiempo_4 = float(input(\"Ingrese el tiempo(en s)\"))\n",
    "\n",
    "# Calculos\n",
    "posicion_4 = posicion(velocidad_inicial_1, tiempo_4)\n",
    "velocidad_4 = velocidad_mejorada(velocidad_inicial_4, tiempo_4)\n",
    "respuesta_4 = caida_subida(velocidad_4, posicion_4)\n",
    "\n",
    "#Respuestas al usuario\n",
    "\n",
    "print(\"La posición del objeto es\", posicion_4, \"m\")\n",
    "print(\"La velocidad del objeto es\", velocidad_4, \"m/s\")\n",
    "print(respuesta_4)"
   ]
  }
 ],
 "metadata": {
  "anaconda-cloud": {},
  "kernelspec": {
   "display_name": "Python 3",
   "language": "python",
   "name": "python3"
  },
  "language_info": {
   "codemirror_mode": {
    "name": "ipython",
    "version": 3
   },
   "file_extension": ".py",
   "mimetype": "text/x-python",
   "name": "python",
   "nbconvert_exporter": "python",
   "pygments_lexer": "ipython3",
   "version": "3.6.6"
  }
 },
 "nbformat": 4,
 "nbformat_minor": 2
}
