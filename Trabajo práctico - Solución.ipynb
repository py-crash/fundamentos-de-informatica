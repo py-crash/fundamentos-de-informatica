{
 "cells": [
  {
   "cell_type": "markdown",
   "metadata": {},
   "source": [
    "# Trabajo práctico de condicionales: El tiro vertical\n",
    "\n",
    "Suponiendo un caso de tiro vertical. Elabore varias funciones de modo tal que, cuando el usario ingrese la velocidad inicial y el tiempo:\n",
    "\n",
    "*    Calcular la posición del objeto en un determinado tiempo. _Nota: recordar que el objeto no puede caer más allá del piso._\n",
    "*    La velocidad del objeto, e indique si este se encuentra en subida o en caida.\n",
    "\n",
    "Suponer para todo esto la posición inicial como 0, que es igual a la altura del piso. "
   ]
  },
  {
   "cell_type": "markdown",
   "metadata": {},
   "source": [
    "## Solución\n",
    "\n",
    "### Convención de signos\n",
    "Se toma como punto de partida siempre (0, 0), es decir a los 0 segundos la posición es 0. La posición arriba será positivas, así como la velocidad hacia arriba será positiva.\n",
    "\n",
    "### Cálculo de la posición"
   ]
  },
  {
   "cell_type": "code",
   "execution_count": 1,
   "metadata": {
    "collapsed": false
   },
   "outputs": [],
   "source": [
    "def posicion(velocidad_inicial, tiempo):\n",
    "    \"\"\"Calcula la posición de un objeto en tiro vertical.\n",
    "    \n",
    "    Entradas:\n",
    "    =========\n",
    "    velocidad inicial: float\n",
    "        La velocidad inicial del objeto. [en m/s]\n",
    "    tiempo: float\n",
    "        El tiempo transcurrido. [en s]\n",
    "        \n",
    "    Salida:\n",
    "    =======\n",
    "    posicion: float\n",
    "        La posición del objeto. [en m]\n",
    "        \n",
    "    Nota: la posición inicial se supone igual a 0, a la altura del piso. \n",
    "    En el momento que el objeto tocó el piso, la posición a partir de ahí\n",
    "    será 0.\n",
    "    \"\"\"\n",
    "    acelaracion = -9.8\n",
    "    pos = velocidad_inicial*tiempo + 1/2 * acelaracion * tiempo**2\n",
    "    \n",
    "    # Ahora reviso si la posición es mayor a cero, o si el objeto llegó al piso\n",
    "    if pos >= 0: # El objeto está en el aire\n",
    "        pos = pos\n",
    "    else: # El Objeto tocó el piso\n",
    "        pos = 0\n",
    "    \n",
    "    return pos        "
   ]
  },
  {
   "cell_type": "markdown",
   "metadata": {},
   "source": [
    "### Cálculo de la velocidad\n",
    "\n",
    "Veamos la siguiente función para calcular la velocidad:"
   ]
  },
  {
   "cell_type": "code",
   "execution_count": 2,
   "metadata": {
    "collapsed": true
   },
   "outputs": [],
   "source": [
    "def velocidad(velocidad_inicial, tiempo):\n",
    "    \"\"\"Calcula la velocidad de un objeto en tiro vertical.\n",
    "    \n",
    "    Entradas:\n",
    "    =========\n",
    "    velocidad inicial: float\n",
    "        La velocidad inicial del objeto. [en m/s]\n",
    "    tiempo: float\n",
    "        El tiempo transcurrido. [en s]\n",
    "        \n",
    "    Salida:\n",
    "    =======\n",
    "    vel: float\n",
    "        La posición del objeto. [en s]\n",
    "    \"\"\"\n",
    "    aceleracion = -9.8\n",
    "    vel = velocidad_inicial + aceleracion * tiempo\n",
    "    \n",
    "    return vel"
   ]
  },
  {
   "cell_type": "markdown",
   "metadata": {},
   "source": [
    "La función anterior es correcta, en un parcial se llevaría todo el puntaje. sin embargo no tiene en cuenta que cuando la pelota llega al piso, esta se detiene por completo, por lo que su velocidad tendría que se también cero. Una solución que también contemple la física del problema sería:"
   ]
  },
  {
   "cell_type": "code",
   "execution_count": 3,
   "metadata": {
    "collapsed": true
   },
   "outputs": [],
   "source": [
    "def velocidad_mejorada(velocidad_inicial, tiempo):\n",
    "    \"\"\"Calcula la velocidad de un objeto en tiro vertical.\n",
    "    \n",
    "    Entradas:\n",
    "    =========\n",
    "    velocidad inicial: float\n",
    "        La velocidad inicial del objeto [en m/s]\n",
    "    tiempo: float\n",
    "        El tiempo transcurrido [en s]\n",
    "        \n",
    "    Salida:\n",
    "    =======\n",
    "    vel: float\n",
    "        La velocidad del objeto. [en m/s]\n",
    "        \n",
    "    Nota: Tiene en cuenta que un objeto en el piso debe estar detenido.\n",
    "    \"\"\"\n",
    "    pos = posicion(velocidad_inicial, tiempo)\n",
    "    \n",
    "    if pos == 0:\n",
    "        vel = 0\n",
    "    else:   \n",
    "        aceleracion = -9.8\n",
    "        vel = velocidad_inicial + aceleracion * tiempo\n",
    "\n",
    "    return vel"
   ]
  },
  {
   "cell_type": "markdown",
   "metadata": {},
   "source": [
    "Algo que tiene de genial la respuesta anterior, es que reutiliza código. Ya que al llamar a la función `posicion()`, se utiliza el código que ya se escribió para calcular la posición."
   ]
  },
  {
   "cell_type": "markdown",
   "metadata": {},
   "source": [
    "### Subida o caida"
   ]
  },
  {
   "cell_type": "code",
   "execution_count": 4,
   "metadata": {
    "collapsed": true
   },
   "outputs": [],
   "source": [
    "def caida_subida(velocidad):\n",
    "    \"\"\"Calcula la velocidad de un objeto en tiro vertical.\n",
    "    \n",
    "    Entradas:\n",
    "    =========\n",
    "    velocidad: float\n",
    "        La velocidad inicial del objeto.\n",
    "        \n",
    "    Salida:\n",
    "    =======\n",
    "    respueta: string\n",
    "        Indica si el objeto está en caida, subida o detenido.\n",
    "    \"\"\"\n",
    "    if velocidad > 0:\n",
    "        rta = \"el objeto está en subida\"\n",
    "    elif velocidad < 0:\n",
    "        rta = \"el objeto está en subida\"\n",
    "    else:\n",
    "        rta = \"el objeto se encuentra detenido\"\n",
    "    return rta"
   ]
  },
  {
   "cell_type": "markdown",
   "metadata": {},
   "source": [
    "En esta respuesta vemos que se toma en cuenta también la posibilidad de que el objeto se encuentre detenido. Esta condición se encuentra de forma implicita en el problema, ya que tenemos que pensar que el objeto no solo se puede encontrar en subida o en bajada, sino tambien detenido."
   ]
  },
  {
   "cell_type": "markdown",
   "metadata": {},
   "source": [
    "### Inputs y Outputs\n",
    "\n",
    "Acá pedidomos al usuario que ingrese los datos y damos las respuestas. Debemos siempre probar con varias condiciones nuestras funciones, de modo tal de estar seguros de que funciona. En este caso vamos a usar:\n",
    "* Un punto en el tiempo cero\n",
    "* Un punto en subida\n",
    "* Un punto en bajada\n",
    "* Un punto en el que el objeto halla tocado el suelo"
   ]
  },
  {
   "cell_type": "code",
   "execution_count": 5,
   "metadata": {
    "collapsed": false
   },
   "outputs": [
    {
     "name": "stdout",
     "output_type": "stream",
     "text": [
      "Ingrese la velocidad inicial (en m/s)98\n",
      "Ingrese el tiempo(en s)0\n",
      "La posición del objeto es 0.0 m\n",
      "La velocidad del objeto es 0 m/s\n",
      "el objeto se encuentra detenido\n"
     ]
    }
   ],
   "source": [
    "# Ingreso de datos\n",
    "velocidad_inicial_1 = float(input(\"Ingrese la velocidad inicial (en m/s)\"))\n",
    "tiempo_1 = float(input(\"Ingrese el tiempo(en s)\"))\n",
    "\n",
    "# Calculos\n",
    "posicion_1 = posicion(velocidad_inicial_1, tiempo_1)\n",
    "velocidad_1 = velocidad_mejorada(velocidad_inicial_1, tiempo_1)\n",
    "respuesta_1 = caida_subida(velocidad_1)\n",
    "\n",
    "#Respuestas al usuario\n",
    "\n",
    "print(\"La posición del objeto es\", posicion_1, \"m\")\n",
    "print(\"La velocidad del objeto es\", velocidad_1, \"m/s\")\n",
    "print(respuesta_1)"
   ]
  },
  {
   "cell_type": "code",
   "execution_count": 6,
   "metadata": {
    "collapsed": false
   },
   "outputs": [
    {
     "name": "stdout",
     "output_type": "stream",
     "text": [
      "Ingrese la velocidad inicial (en m/s)98\n",
      "Ingrese el tiempo(en s)1\n",
      "La posición del objeto es 93.1 m\n",
      "La velocidad del objeto es 88.2 m/s\n",
      "el objeto está en subida\n"
     ]
    }
   ],
   "source": [
    "# Ingreso de datos\n",
    "velocidad_inicial_2 = float(input(\"Ingrese la velocidad inicial (en m/s)\"))\n",
    "tiempo_2 = float(input(\"Ingrese el tiempo(en s)\"))\n",
    "\n",
    "# Calculos\n",
    "posicion_2 = posicion(velocidad_inicial_2, tiempo_2)\n",
    "velocidad_2 = velocidad_mejorada(velocidad_inicial_2, tiempo_2)\n",
    "respuesta_2 = caida_subida(velocidad_2)\n",
    "\n",
    "#Respuestas al usuario\n",
    "\n",
    "print(\"La posición del objeto es\", posicion_2, \"m\")\n",
    "print(\"La velocidad del objeto es\", velocidad_2, \"m/s\")\n",
    "print(respuesta_2)"
   ]
  },
  {
   "cell_type": "code",
   "execution_count": 7,
   "metadata": {
    "collapsed": false
   },
   "outputs": [
    {
     "name": "stdout",
     "output_type": "stream",
     "text": [
      "Ingrese la velocidad inicial (en m/s)98\n",
      "Ingrese el tiempo(en s)10\n",
      "La posición del objeto es 489.99999999999994 m\n",
      "La velocidad del objeto es 0.0 m/s\n",
      "el objeto se encuentra detenido\n"
     ]
    }
   ],
   "source": [
    "# Ingreso de datos\n",
    "velocidad_inicial_3 = float(input(\"Ingrese la velocidad inicial (en m/s)\"))\n",
    "tiempo_3 = float(input(\"Ingrese el tiempo(en s)\"))\n",
    "\n",
    "# Calculos\n",
    "posicion_3 = posicion(velocidad_inicial_3, tiempo_3)\n",
    "velocidad_3 = velocidad_mejorada(velocidad_inicial_3, tiempo_3)\n",
    "respuesta_3 = caida_subida(velocidad_3)\n",
    "\n",
    "#Respuestas al usuario\n",
    "\n",
    "print(\"La posición del objeto es\", posicion_3, \"m\")\n",
    "print(\"La velocidad del objeto es\", velocidad_3, \"m/s\")\n",
    "print(respuesta_3)"
   ]
  },
  {
   "cell_type": "code",
   "execution_count": 8,
   "metadata": {
    "collapsed": false
   },
   "outputs": [
    {
     "name": "stdout",
     "output_type": "stream",
     "text": [
      "Ingrese la velocidad inicial (en m/s)98\n",
      "Ingrese el tiempo(en s)10000\n",
      "La posición del objeto es 0 m\n",
      "La velocidad del objeto es 0 m/s\n",
      "el objeto se encuentra detenido\n"
     ]
    }
   ],
   "source": [
    "# Ingreso de datos\n",
    "velocidad_inicial_4 = float(input(\"Ingrese la velocidad inicial (en m/s)\"))\n",
    "tiempo_4 = float(input(\"Ingrese el tiempo(en s)\"))\n",
    "\n",
    "# Calculos\n",
    "posicion_4 = posicion(velocidad_inicial_1, tiempo_4)\n",
    "velocidad_4 = velocidad_mejorada(velocidad_inicial_4, tiempo_4)\n",
    "respuesta_4 = caida_subida(velocidad_4)\n",
    "\n",
    "#Respuestas al usuario\n",
    "\n",
    "print(\"La posición del objeto es\", posicion_4, \"m\")\n",
    "print(\"La velocidad del objeto es\", velocidad_4, \"m/s\")\n",
    "print(respuesta_4)"
   ]
  }
 ],
 "metadata": {
  "anaconda-cloud": {},
  "kernelspec": {
   "display_name": "Python [conda root]",
   "language": "python",
   "name": "conda-root-py"
  },
  "language_info": {
   "codemirror_mode": {
    "name": "ipython",
    "version": 3
   },
   "file_extension": ".py",
   "mimetype": "text/x-python",
   "name": "python",
   "nbconvert_exporter": "python",
   "pygments_lexer": "ipython3",
   "version": "3.5.2"
  }
 },
 "nbformat": 4,
 "nbformat_minor": 1
}
