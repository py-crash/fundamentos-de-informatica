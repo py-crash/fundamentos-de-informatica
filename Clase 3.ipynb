{
 "cells": [
  {
   "cell_type": "markdown",
   "metadata": {},
   "source": [
    "## Ejercicios tipo Parcial"
   ]
  },
  {
   "cell_type": "markdown",
   "metadata": {},
   "source": [
    "### Ejercicio 1: Hidrocarburos Saturados e insaturados\n",
    "\n",
    "Los hidrocarburos son moléculas orgánicas que poseen sólo Carbónos e hidrógenos. Su fórmula general es $C_n H_m$. Esto pueden ser saturados o insaturados, según si tienen la máxima cantidad de hidrógenos o no:\n",
    "* Si tienen una cantidad de hidrógenos: $m = 2n+2$ la cantidad de hidrógenos es la máxima. El hidrocarburo es **saturado**\n",
    "* Si tiene una cantidad menor, el hidrocarburo es **insaturado**\n",
    "\n",
    "Cree una función que ingresada la cantidad de Carbonos e hidrógenos, indique si la molécula es saturada o insaturada"
   ]
  },
  {
   "cell_type": "markdown",
   "metadata": {},
   "source": [
    "### Ejercicio 2: La escala Baumé\n",
    "\n",
    "\n",
    "La escala Baumé es una vieja escala de densidades creada por el químico y\n",
    "farmacéutico francés Antoine Baumé en 1768. Hoy día se sigue utilizando en\n",
    "algunas industrias como ser el vino, la cerveza y para medir ácidos.\n",
    "\n",
    "Esta tiene dos escala una para líquidos de mayor densisdad que el agua y otra\n",
    "para liquidos de menor densidad del agua:\n",
    "\n",
    "* Para líquidos más densos que el agua (d > 1 g/cm³): $ºBé = 145 – 145/d$\n",
    "\n",
    "* Para líquidos menos densos que el agua (d < 1 g/cm³): $ºBé = 140/d – 130$\n",
    "\n",
    "Elabore un programa que ingresada la densisdad del líquido (en g/cm³) calcule su\n",
    "densidad en grados Baumé, y la imprima indicando si se trata de un líquido\n",
    "de densidad mayor o menor que el agua."
   ]
  },
  {
   "cell_type": "markdown",
   "metadata": {},
   "source": [
    "## Control de flujo: Bucles\n",
    "\n",
    "De **Python para todos** de _Raúl Gonzalez Duque_:\n",
    "\n",
    "    Mientras que los condicionales nos permiten ejecutar distintos fragmentos de código dependiendo de ciertas condiciones, los bucles nos permiten ejecutar un mismo fragmento de código un cierto número de veces, mientras se cumpla una determinada condición.\n",
    "    \n",
    "Nosotros aprenderemos el uso de bucles con `for`, el cual nos permite iterar sobre los elementos de una secuencia.\n",
    "\n",
    "Tomemos por ejemplo la siguiente función:"
   ]
  },
  {
   "cell_type": "code",
   "execution_count": 1,
   "metadata": {
    "collapsed": true
   },
   "outputs": [],
   "source": [
    "def masa_alcano(cant_carbonos):\n",
    "    cant_hidrogenos = 2*cant_carbonos + 2\n",
    "    masa_molecular = 12*cant_carbonos + 1*cant_hidrogenos\n",
    "    return masa_molecular"
   ]
  },
  {
   "cell_type": "markdown",
   "metadata": {},
   "source": [
    "Si queremos calcular la masa molecular de los primeros 10 alcanos de la serie, podríamos hacer lo siguiente:"
   ]
  },
  {
   "cell_type": "code",
   "execution_count": 2,
   "metadata": {
    "collapsed": false
   },
   "outputs": [
    {
     "name": "stdout",
     "output_type": "stream",
     "text": [
      "La masa del alcano con 1 carbonos es 16\n",
      "La masa del alcano con 2 carbonos es 30\n",
      "La masa del alcano con 3 carbonos es 44\n",
      "La masa del alcano con 4 carbonos es 58\n",
      "La masa del alcano con 5 carbonos es 72\n",
      "La masa del alcano con 6 carbonos es 86\n",
      "La masa del alcano con 7 carbonos es 100\n",
      "La masa del alcano con 8 carbonos es 114\n",
      "La masa del alcano con 9 carbonos es 128\n",
      "La masa del alcano con 10 carbonos es 142\n"
     ]
    }
   ],
   "source": [
    "for i in [1, 2, 3, 4, 5, 6, 7, 8, 9, 10]:\n",
    "    print(\"La masa del alcano con\", i, \"carbonos es\", masa_alcano(i))"
   ]
  },
  {
   "cell_type": "markdown",
   "metadata": {},
   "source": [
    "Sin embargo, a medida que la lista con elementos a iterar crece, se vuelve tedioso escribir una lista con todos los valores. Para evitarnos este trabajo python tiene la función `range()`:"
   ]
  },
  {
   "cell_type": "code",
   "execution_count": 3,
   "metadata": {
    "collapsed": false
   },
   "outputs": [
    {
     "name": "stdout",
     "output_type": "stream",
     "text": [
      "La masa del alcano con 0 carbonos es 2\n",
      "La masa del alcano con 1 carbonos es 16\n",
      "La masa del alcano con 2 carbonos es 30\n",
      "La masa del alcano con 3 carbonos es 44\n",
      "La masa del alcano con 4 carbonos es 58\n",
      "La masa del alcano con 5 carbonos es 72\n",
      "La masa del alcano con 6 carbonos es 86\n",
      "La masa del alcano con 7 carbonos es 100\n",
      "La masa del alcano con 8 carbonos es 114\n",
      "La masa del alcano con 9 carbonos es 128\n"
     ]
    }
   ],
   "source": [
    "for i in range(10):\n",
    "    print(\"La masa del alcano con\", i, \"carbonos es\",\n",
    "         masa_alcano(i))"
   ]
  },
  {
   "cell_type": "markdown",
   "metadata": {},
   "source": [
    "Vemos ahora que `range()` genera una lista que va desde el 0 hasta el número que especificamos, **sin incluirlo**. Esto sería para nuestro ejemplo un error. Si queremos, entonces, crear una lista que vaya del uno al número que queremos, tenemos dos opciones:"
   ]
  },
  {
   "cell_type": "code",
   "execution_count": 4,
   "metadata": {
    "collapsed": false
   },
   "outputs": [
    {
     "name": "stdout",
     "output_type": "stream",
     "text": [
      "La masa del alcano con 1 carbonos es 16\n",
      "La masa del alcano con 2 carbonos es 30\n",
      "La masa del alcano con 3 carbonos es 44\n",
      "La masa del alcano con 4 carbonos es 58\n",
      "La masa del alcano con 5 carbonos es 72\n",
      "La masa del alcano con 6 carbonos es 86\n",
      "La masa del alcano con 7 carbonos es 100\n",
      "La masa del alcano con 8 carbonos es 114\n",
      "La masa del alcano con 9 carbonos es 128\n",
      "La masa del alcano con 10 carbonos es 142\n",
      "La masa del alcano con 11 carbonos es 156\n",
      "La masa del alcano con 12 carbonos es 170\n",
      "La masa del alcano con 13 carbonos es 184\n",
      "La masa del alcano con 14 carbonos es 198\n",
      "La masa del alcano con 15 carbonos es 212\n",
      "La masa del alcano con 16 carbonos es 226\n",
      "La masa del alcano con 17 carbonos es 240\n",
      "La masa del alcano con 18 carbonos es 254\n",
      "La masa del alcano con 19 carbonos es 268\n",
      "La masa del alcano con 20 carbonos es 282\n"
     ]
    }
   ],
   "source": [
    "for i in range(20):\n",
    "    cachito = i+1\n",
    "    print(\"La masa del alcano con\", cachito, \"carbonos es\",\n",
    "         masa_alcano(cachito))"
   ]
  },
  {
   "cell_type": "code",
   "execution_count": 5,
   "metadata": {
    "collapsed": false
   },
   "outputs": [
    {
     "name": "stdout",
     "output_type": "stream",
     "text": [
      "La masa del alcano con 1 carbonos es 16\n",
      "La masa del alcano con 2 carbonos es 30\n",
      "La masa del alcano con 3 carbonos es 44\n",
      "La masa del alcano con 4 carbonos es 58\n",
      "La masa del alcano con 5 carbonos es 72\n",
      "La masa del alcano con 6 carbonos es 86\n",
      "La masa del alcano con 7 carbonos es 100\n",
      "La masa del alcano con 8 carbonos es 114\n",
      "La masa del alcano con 9 carbonos es 128\n",
      "La masa del alcano con 10 carbonos es 142\n",
      "La masa del alcano con 11 carbonos es 156\n",
      "La masa del alcano con 12 carbonos es 170\n",
      "La masa del alcano con 13 carbonos es 184\n",
      "La masa del alcano con 14 carbonos es 198\n",
      "La masa del alcano con 15 carbonos es 212\n",
      "La masa del alcano con 16 carbonos es 226\n",
      "La masa del alcano con 17 carbonos es 240\n",
      "La masa del alcano con 18 carbonos es 254\n",
      "La masa del alcano con 19 carbonos es 268\n",
      "La masa del alcano con 20 carbonos es 282\n"
     ]
    }
   ],
   "source": [
    "for cachito in range(1, 21):\n",
    "    print(\"La masa del alcano con\", cachito, \"carbonos es\",\n",
    "         masa_alcano(cachito))"
   ]
  },
  {
   "cell_type": "markdown",
   "metadata": {},
   "source": [
    "### Ejercicio 3\n",
    "Defina una función que calcule la suma desde 1 hasta el número ingresado por el usuario"
   ]
  },
  {
   "cell_type": "code",
   "execution_count": 6,
   "metadata": {
    "collapsed": false
   },
   "outputs": [],
   "source": [
    "def sumatoria(nro):\n",
    "    \"\"\"Calcula la sumatoria de 1 al número ingresado\n",
    "    \"\"\"\n",
    "    acumulador = 0 \n",
    "    for i in range(1, nro+1):\n",
    "        acumulador = acumulador+i\n",
    "        \n",
    "    return acumulador"
   ]
  },
  {
   "cell_type": "markdown",
   "metadata": {},
   "source": [
    "### Ejercicio 4\n",
    "\n",
    "Defina una función que calcule el factorial de un número dado"
   ]
  },
  {
   "cell_type": "code",
   "execution_count": 7,
   "metadata": {
    "collapsed": true
   },
   "outputs": [],
   "source": [
    "def factorial(nro):\n",
    "    \"\"\"Calcula el factorial del número ingresado\n",
    "    \"\"\"\n",
    "    factorial=1\n",
    "    for i in range(1, nro+1):\n",
    "        factorial = factorial*i\n",
    "        \n",
    "    return factorial"
   ]
  }
 ],
 "metadata": {
  "anaconda-cloud": {},
  "kernelspec": {
   "display_name": "Python [conda root]",
   "language": "python",
   "name": "conda-root-py"
  },
  "language_info": {
   "codemirror_mode": {
    "name": "ipython",
    "version": 3
   },
   "file_extension": ".py",
   "mimetype": "text/x-python",
   "name": "python",
   "nbconvert_exporter": "python",
   "pygments_lexer": "ipython3",
   "version": "3.5.2"
  }
 },
 "nbformat": 4,
 "nbformat_minor": 1
}
