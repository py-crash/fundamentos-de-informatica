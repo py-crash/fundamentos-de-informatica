{
 "cells": [
  {
   "cell_type": "markdown",
   "metadata": {
    "nbpresent": {
     "id": "16febc83-2780-41d2-8218-0476851ba3ee"
    }
   },
   "source": [
    "## ¿Qué es python?"
   ]
  },
  {
   "cell_type": "markdown",
   "metadata": {
    "nbpresent": {
     "id": "49c6c733-563e-46cb-8c3e-4e3f59be6fdf"
    }
   },
   "source": [
    "Un **lenguaje de programación**."
   ]
  },
  {
   "cell_type": "markdown",
   "metadata": {
    "nbpresent": {
     "id": "fa8dd7da-aa09-4a79-bd80-0ff28e742a14"
    }
   },
   "source": [
    "### ¿Cuáles son sus caracterísiticas?"
   ]
  },
  {
   "cell_type": "markdown",
   "metadata": {
    "nbpresent": {
     "id": "79b6975b-34dd-4480-b8d6-1e206d10526f"
    }
   },
   "source": [
    "* Ser Facil de aprender\n",
    "* Interpretado\n",
    "* Multiparadigma\n",
    "* Fuertemente tipado"
   ]
  },
  {
   "cell_type": "markdown",
   "metadata": {
    "nbpresent": {
     "id": "9522d434-a3d3-47b2-9917-9c985d6cbf83"
    }
   },
   "source": [
    "## Repaso\n",
    "\n",
    "### ¿Qué son las funciones?"
   ]
  },
  {
   "cell_type": "markdown",
   "metadata": {
    "nbpresent": {
     "id": "83302264-bd98-4a93-93f1-d475be70709c"
    }
   },
   "source": [
    "**Raúl González Duque** en su libro _\"Python para todos\"_ nos dice:\n",
    "\n",
    ">\"Una **función** es un fragmento de código con un nombre asociado que \n",
    "realiza una serie de tareas y devuelve un valor.\""
   ]
  },
  {
   "cell_type": "markdown",
   "metadata": {
    "nbpresent": {
     "id": "63ae6153-95e5-47b0-a1be-4bab1bc372dc"
    }
   },
   "source": [
    "### ¿Para que se usan?"
   ]
  },
  {
   "cell_type": "markdown",
   "metadata": {
    "nbpresent": {
     "id": "d94882cf-3b54-4e78-9876-48b54e630443"
    }
   },
   "source": [
    "La primer utilidad sería para no repetir código, esto nos permite evitar errores; y si suceden, que los errores sean más fáciles de corregir"
   ]
  },
  {
   "cell_type": "markdown",
   "metadata": {
    "nbpresent": {
     "id": "beb10690-fbfe-4152-8be2-b8cb3ab6e661"
    }
   },
   "source": [
    "### Ejecicio 1\n",
    "\n",
    "Los alcanos son moléculas orgánicas que siguen la fórmula $C_nH_2n+2$ (siempre y cuando sean de cadena abierta). Cree entonces una función que dado el número carbónos  e hidrógenos **(en ese ordern)** nos devuelva la masa molecular del alcano.\n",
    "\n",
    "Luego, en otra celda escribir los `input()` y `print()` necesarios para que el usuario ingrese la cantidas y se imprima el resultado"
   ]
  },
  {
   "cell_type": "code",
   "execution_count": 5,
   "metadata": {
    "collapsed": true
   },
   "outputs": [],
   "source": [
    "def masa_alcano(nro_carbono, nro_hidrogeno):\n",
    "    masa = 12*nro_carbono + 1*nro_hidrogeno\n",
    "    return masa"
   ]
  },
  {
   "cell_type": "code",
   "execution_count": 8,
   "metadata": {
    "collapsed": false
   },
   "outputs": [
    {
     "name": "stdout",
     "output_type": "stream",
     "text": [
      "Ingrese el numero de carbonos: 1\n",
      "Ingrese el numero de hidrogenos: 4\n",
      "la masa del alcano es  16 g/mol\n"
     ]
    }
   ],
   "source": [
    "C = int(input(\"Ingrese el numero de carbonos: \"))\n",
    "H = int(input(\"Ingrese el numero de hidrogenos: \"))\n",
    "print(\"la masa del alcano es \", masa_alcano(C, H),\"g/mol\")"
   ]
  },
  {
   "cell_type": "markdown",
   "metadata": {},
   "source": [
    "### Ejercicio 2\n",
    "Dada la fórmula del MRUV: $d = d_0 + v_0*t +1/2 * a*t^2$. Tomese $d_0$ nulo, y $a$ igual a la aceleración de la gravedad. Definase una función que devuelva el espacio ingresado el tiempo y la velocidad inicial."
   ]
  },
  {
   "cell_type": "code",
   "execution_count": 9,
   "metadata": {
    "collapsed": true
   },
   "outputs": [],
   "source": [
    "def espacio(vel_ini,tiempo):\n",
    "    \"\"\"Devuelve el espacio en MRUV.\n",
    "    Entradas: velocidad inicial, tiempo\n",
    "    Salida: espacio\n",
    "    Considerando d0 nulo\n",
    "    \"\"\"\n",
    "    aceleracion = 9.80/2\n",
    "    distancia = vel_ini*tiempo+aceleracion*(tiempo**2)\n",
    "    return distancia"
   ]
  },
  {
   "cell_type": "code",
   "execution_count": 10,
   "metadata": {
    "collapsed": false
   },
   "outputs": [
    {
     "name": "stdout",
     "output_type": "stream",
     "text": [
      "Ingrese la Velocidad Inicial del objeto (en m/s): 1\n",
      "Ingrese el tiempo en el que hizo el recorrido: (en s)1\n",
      "La distancia recorrida por el objeto es:  5.9  metros\n"
     ]
    }
   ],
   "source": [
    "Velocidad_Inicial = float(input(\"Ingrese la Velocidad Inicial del objeto (en m/s): \"))\n",
    "Tiempo = float(input(\"Ingrese el tiempo en el que hizo el recorrido: (en s)\"))\n",
    "print(\"La distancia recorrida por el objeto es: \", espacio(Velocidad_Inicial,Tiempo),\" metros\")"
   ]
  },
  {
   "cell_type": "markdown",
   "metadata": {},
   "source": [
    "## Controladores de Flujo\n",
    "Una vez denida la función y las variables es necesario que el programa pueda tomar ciertas decisiones. En nuestro caso trabajaremos con controladores condicionales: `if`, `elif` y `else`."
   ]
  },
  {
   "cell_type": "markdown",
   "metadata": {
    "collapsed": true
   },
   "source": [
    "### Ejercicio 3\n",
    "\n",
    "Dado el siguiente código diga cuál es su función:\n",
    "\n",
    "```python\n",
    "if sueño == True:\n",
    "    print(\"Beber café\")\n",
    "else:\n",
    "    print(\"Seguí trabajando\")\n",
    "```"
   ]
  },
  {
   "cell_type": "code",
   "execution_count": null,
   "metadata": {
    "collapsed": true
   },
   "outputs": [],
   "source": [
    "respuesta == input(\"¿Para qué sirve el código?\")"
   ]
  },
  {
   "cell_type": "markdown",
   "metadata": {},
   "source": [
    "### Ejercicio 4\n",
    "\n",
    "Defina una función que ingresado dos número los compare (mayor, menor o igual)"
   ]
  },
  {
   "cell_type": "markdown",
   "metadata": {},
   "source": [
    "Esta es la primera forma de resolver el problema _anidando_ otro condicional en el else. Esta solución es correcta, sin embargo, si ponemos demasiados condicionales anidados el código se hace más dificil de leer."
   ]
  },
  {
   "cell_type": "code",
   "execution_count": 16,
   "metadata": {
    "collapsed": true
   },
   "outputs": [],
   "source": [
    "def es_mayor1(N1, N2):\n",
    "    if N1 > N2:\n",
    "        rta = \"Es mayor\"\n",
    "    else:\n",
    "        if N1 < N2:\n",
    "            rta = \"Es menor\"\n",
    "        else:\n",
    "            rta = \"Es igual\"\n",
    "    return rta"
   ]
  },
  {
   "cell_type": "markdown",
   "metadata": {},
   "source": [
    "Esta es otra solución posible, utilizando `elif` (sería como juntar un `else` y un `if`). Si la condición del `if` no se cumple, el programa evaluará la condición del `elif`; y si esta no se cumple, realiza la acción del `else`."
   ]
  },
  {
   "cell_type": "code",
   "execution_count": 17,
   "metadata": {
    "collapsed": true
   },
   "outputs": [],
   "source": [
    "def es_mayor2(N1, N2):\n",
    "    if N1 > N2:\n",
    "        rta = \"Es mayor\"\n",
    "    elif N1 == N2:\n",
    "        rta = \"Es igual\"\n",
    "    elif N1 < N2:\n",
    "        rta = \"Es menor\"\n",
    "    else:\n",
    "        rta = \"No entendí\"\n",
    "    return rta"
   ]
  },
  {
   "cell_type": "markdown",
   "metadata": {
    "collapsed": true
   },
   "source": [
    "## Trabajo práctico de condicionales: El tiro vertical\n",
    "\n",
    "Suponiendo un caso de tiro vertical. Elabore varias funciones de modo tal que, cuando el usario ingrese la velocidad inicial y el tiempo:\n",
    "\n",
    "*    Calcular la posición del objeto en un determinado tiempo. Nota: recordar que el objeto no puede caer más allá del piso.\n",
    "*    La velocidad del objeto, e indique si este se encuentra en subida o en caida.\n",
    "\n",
    "Suponer para todo esto la posición inicial como 0, que es igual a la altura del piso. Pueden entregar el archivo cómo notebook de ipython (.ipynb) o cómo script de python (.py)"
   ]
  }
 ],
 "metadata": {
  "anaconda-cloud": {},
  "kernelspec": {
   "display_name": "Python [conda root]",
   "language": "python",
   "name": "conda-root-py"
  },
  "language_info": {
   "codemirror_mode": {
    "name": "ipython",
    "version": 3
   },
   "file_extension": ".py",
   "mimetype": "text/x-python",
   "name": "python",
   "nbconvert_exporter": "python",
   "pygments_lexer": "ipython3",
   "version": "3.5.2"
  },
  "nbpresent": {
   "slides": {
    "1d4b0143-61a6-4370-a38e-d22e72895a40": {
     "id": "1d4b0143-61a6-4370-a38e-d22e72895a40",
     "prev": "dd7a2458-7eb2-4e48-92d2-67e89c0dc14a",
     "regions": {
      "96d37d22-dece-484f-9f0c-e9487cfc334a": {
       "attrs": {
        "height": 0.8,
        "width": 0.8,
        "x": 0.1,
        "y": 0.1
       },
       "content": {
        "cell": "a638bbed-e858-49a2-a439-d81403feb2c2",
        "part": "whole"
       },
       "id": "96d37d22-dece-484f-9f0c-e9487cfc334a"
      }
     }
    },
    "2cf4024c-5f9c-4fe9-955f-3fba5d4f0153": {
     "id": "2cf4024c-5f9c-4fe9-955f-3fba5d4f0153",
     "prev": "f1504f05-b626-4ef5-a0c1-377c14cc40ce",
     "regions": {
      "1890a9f8-0e04-42d9-a943-48f35f9b3a11": {
       "attrs": {
        "height": 0.8,
        "width": 0.8,
        "x": 0.1,
        "y": 0.1
       },
       "content": {
        "cell": "9522d434-a3d3-47b2-9917-9c985d6cbf83",
        "part": "whole"
       },
       "id": "1890a9f8-0e04-42d9-a943-48f35f9b3a11"
      }
     }
    },
    "509db345-8d12-49bc-987c-640fa3da07f2": {
     "id": "509db345-8d12-49bc-987c-640fa3da07f2",
     "prev": "b000cd19-3ed5-4480-b97d-cf37489aace1",
     "regions": {
      "85c47fe6-a350-4cf9-968a-4b1e943ef6ae": {
       "attrs": {
        "height": 0.8,
        "width": 0.8,
        "x": 0.1,
        "y": 0.1
       },
       "content": {
        "cell": "fa8dd7da-aa09-4a79-bd80-0ff28e742a14",
        "part": "whole"
       },
       "id": "85c47fe6-a350-4cf9-968a-4b1e943ef6ae"
      }
     }
    },
    "512beb0f-d974-45e0-882f-be5e4672c6fa": {
     "id": "512beb0f-d974-45e0-882f-be5e4672c6fa",
     "prev": "ce5a461d-c783-429d-a26b-5f907e7bff36",
     "regions": {
      "d3f5facb-d202-4cc1-afb4-15e6d7618a3a": {
       "attrs": {
        "height": 0.8,
        "width": 0.8,
        "x": 0.1,
        "y": 0.1
       },
       "content": {
        "cell": "63ae6153-95e5-47b0-a1be-4bab1bc372dc",
        "part": "whole"
       },
       "id": "d3f5facb-d202-4cc1-afb4-15e6d7618a3a"
      }
     }
    },
    "aff50446-ebbe-4167-9aac-6a81b7cd35d0": {
     "id": "aff50446-ebbe-4167-9aac-6a81b7cd35d0",
     "prev": "1d4b0143-61a6-4370-a38e-d22e72895a40",
     "regions": {
      "28ca2b9f-96b5-4fb8-bca4-67bbb9aa65b9": {
       "attrs": {
        "height": 0.8,
        "width": 0.8,
        "x": 0.1,
        "y": 0.1
       },
       "content": {
        "cell": "beb10690-fbfe-4152-8be2-b8cb3ab6e661",
        "part": "whole"
       },
       "id": "28ca2b9f-96b5-4fb8-bca4-67bbb9aa65b9"
      }
     }
    },
    "b000cd19-3ed5-4480-b97d-cf37489aace1": {
     "id": "b000cd19-3ed5-4480-b97d-cf37489aace1",
     "prev": "bfd30f5e-48e9-4ef9-9360-418969099b22",
     "regions": {
      "c298e159-dde9-48a0-996f-f27f146b33d3": {
       "attrs": {
        "height": 0.8,
        "width": 0.8,
        "x": 0.1,
        "y": 0.1
       },
       "content": {
        "cell": "49c6c733-563e-46cb-8c3e-4e3f59be6fdf",
        "part": "whole"
       },
       "id": "c298e159-dde9-48a0-996f-f27f146b33d3"
      }
     }
    },
    "bfd30f5e-48e9-4ef9-9360-418969099b22": {
     "id": "bfd30f5e-48e9-4ef9-9360-418969099b22",
     "prev": null,
     "regions": {
      "09659208-92b6-454e-9d97-f09993e9eae8": {
       "attrs": {
        "height": 0.8,
        "width": 0.8,
        "x": 0.1,
        "y": 0.1
       },
       "content": {
        "cell": "16febc83-2780-41d2-8218-0476851ba3ee",
        "part": "whole"
       },
       "id": "09659208-92b6-454e-9d97-f09993e9eae8"
      }
     }
    },
    "ce5a461d-c783-429d-a26b-5f907e7bff36": {
     "id": "ce5a461d-c783-429d-a26b-5f907e7bff36",
     "prev": "2cf4024c-5f9c-4fe9-955f-3fba5d4f0153",
     "regions": {
      "e62a4193-fe2f-4a51-b754-020396aeb0da": {
       "attrs": {
        "height": 0.8,
        "width": 0.8,
        "x": 0.1,
        "y": 0.1
       },
       "content": {
        "cell": "83302264-bd98-4a93-93f1-d475be70709c",
        "part": "whole"
       },
       "id": "e62a4193-fe2f-4a51-b754-020396aeb0da"
      }
     }
    },
    "d1c0c542-c393-4637-8ae0-4ec7b464f077": {
     "id": "d1c0c542-c393-4637-8ae0-4ec7b464f077",
     "prev": "aff50446-ebbe-4167-9aac-6a81b7cd35d0",
     "regions": {
      "6fa5fe8e-1ae0-4456-a3c3-2c8301c31477": {
       "attrs": {
        "height": 0.8,
        "width": 0.8,
        "x": 0.1,
        "y": 0.1
       },
       "content": {
        "cell": "d8242afa-12a9-4f23-bf17-aba9de9a8d89",
        "part": "whole"
       },
       "id": "6fa5fe8e-1ae0-4456-a3c3-2c8301c31477"
      }
     }
    },
    "dd7a2458-7eb2-4e48-92d2-67e89c0dc14a": {
     "id": "dd7a2458-7eb2-4e48-92d2-67e89c0dc14a",
     "prev": "512beb0f-d974-45e0-882f-be5e4672c6fa",
     "regions": {
      "525a5e0c-bb86-4a7e-b91f-60daf7041a43": {
       "attrs": {
        "height": 0.8,
        "width": 0.8,
        "x": 0.1,
        "y": 0.1
       },
       "content": {
        "cell": "d94882cf-3b54-4e78-9876-48b54e630443",
        "part": "whole"
       },
       "id": "525a5e0c-bb86-4a7e-b91f-60daf7041a43"
      }
     }
    },
    "f1504f05-b626-4ef5-a0c1-377c14cc40ce": {
     "id": "f1504f05-b626-4ef5-a0c1-377c14cc40ce",
     "prev": "509db345-8d12-49bc-987c-640fa3da07f2",
     "regions": {
      "80e9c55f-cab6-4189-bfd9-5f24b0e31612": {
       "attrs": {
        "height": 0.8,
        "width": 0.8,
        "x": 0.1,
        "y": 0.1
       },
       "content": {
        "cell": "79b6975b-34dd-4480-b8d6-1e206d10526f",
        "part": "whole"
       },
       "id": "80e9c55f-cab6-4189-bfd9-5f24b0e31612"
      }
     }
    }
   },
   "themes": {
    "default": "2ad35683-cd22-48b8-bed7-04f45131d07e",
    "theme": {
     "2ad35683-cd22-48b8-bed7-04f45131d07e": {
      "id": "2ad35683-cd22-48b8-bed7-04f45131d07e",
      "palette": {
       "19cc588f-0593-49c9-9f4b-e4d7cc113b1c": {
        "id": "19cc588f-0593-49c9-9f4b-e4d7cc113b1c",
        "rgb": [
         252,
         252,
         252
        ]
       },
       "31af15d2-7e15-44c5-ab5e-e04b16a89eff": {
        "id": "31af15d2-7e15-44c5-ab5e-e04b16a89eff",
        "rgb": [
         68,
         68,
         68
        ]
       },
       "50f92c45-a630-455b-aec3-788680ec7410": {
        "id": "50f92c45-a630-455b-aec3-788680ec7410",
        "rgb": [
         155,
         177,
         192
        ]
       },
       "c5cc3653-2ee1-402a-aba2-7caae1da4f6c": {
        "id": "c5cc3653-2ee1-402a-aba2-7caae1da4f6c",
        "rgb": [
         43,
         126,
         184
        ]
       },
       "efa7f048-9acb-414c-8b04-a26811511a21": {
        "id": "efa7f048-9acb-414c-8b04-a26811511a21",
        "rgb": [
         25.118061674008803,
         73.60176211453744,
         107.4819383259912
        ]
       }
      },
      "rules": {
       "blockquote": {
        "color": "50f92c45-a630-455b-aec3-788680ec7410"
       },
       "code": {
        "font-family": "Anonymous Pro"
       },
       "h1": {
        "color": "c5cc3653-2ee1-402a-aba2-7caae1da4f6c",
        "font-family": "Lato",
        "font-size": 8
       },
       "h2": {
        "color": "c5cc3653-2ee1-402a-aba2-7caae1da4f6c",
        "font-family": "Lato",
        "font-size": 6
       },
       "h3": {
        "color": "50f92c45-a630-455b-aec3-788680ec7410",
        "font-family": "Lato",
        "font-size": 5.5
       },
       "h4": {
        "color": "c5cc3653-2ee1-402a-aba2-7caae1da4f6c",
        "font-family": "Lato",
        "font-size": 5
       },
       "h5": {
        "font-family": "Lato"
       },
       "h6": {
        "font-family": "Lato"
       },
       "h7": {
        "font-family": "Lato"
       },
       "pre": {
        "font-family": "Anonymous Pro",
        "font-size": 4
       }
      },
      "text-base": {
       "font-family": "Merriweather",
       "font-size": 4
      }
     },
     "9ba8b350-b4ce-44bf-baa2-509611bc8e29": {
      "backgrounds": {
       "dc7afa04-bf90-40b1-82a5-726e3cff5267": {
        "background-color": "31af15d2-7e15-44c5-ab5e-e04b16a89eff",
        "id": "dc7afa04-bf90-40b1-82a5-726e3cff5267"
       }
      },
      "id": "9ba8b350-b4ce-44bf-baa2-509611bc8e29",
      "palette": {
       "19cc588f-0593-49c9-9f4b-e4d7cc113b1c": {
        "id": "19cc588f-0593-49c9-9f4b-e4d7cc113b1c",
        "rgb": [
         252,
         252,
         252
        ]
       },
       "31af15d2-7e15-44c5-ab5e-e04b16a89eff": {
        "id": "31af15d2-7e15-44c5-ab5e-e04b16a89eff",
        "rgb": [
         68,
         68,
         68
        ]
       },
       "50f92c45-a630-455b-aec3-788680ec7410": {
        "id": "50f92c45-a630-455b-aec3-788680ec7410",
        "rgb": [
         197,
         226,
         245
        ]
       },
       "c5cc3653-2ee1-402a-aba2-7caae1da4f6c": {
        "id": "c5cc3653-2ee1-402a-aba2-7caae1da4f6c",
        "rgb": [
         43,
         126,
         184
        ]
       },
       "efa7f048-9acb-414c-8b04-a26811511a21": {
        "id": "efa7f048-9acb-414c-8b04-a26811511a21",
        "rgb": [
         25.118061674008803,
         73.60176211453744,
         107.4819383259912
        ]
       }
      },
      "rules": {
       "a": {
        "color": "19cc588f-0593-49c9-9f4b-e4d7cc113b1c"
       },
       "blockquote": {
        "color": "50f92c45-a630-455b-aec3-788680ec7410",
        "font-size": 3
       },
       "code": {
        "font-family": "Anonymous Pro"
       },
       "h1": {
        "color": "19cc588f-0593-49c9-9f4b-e4d7cc113b1c",
        "font-family": "Merriweather",
        "font-size": 8
       },
       "h2": {
        "color": "19cc588f-0593-49c9-9f4b-e4d7cc113b1c",
        "font-family": "Merriweather",
        "font-size": 6
       },
       "h3": {
        "color": "50f92c45-a630-455b-aec3-788680ec7410",
        "font-family": "Lato",
        "font-size": 5.5
       },
       "h4": {
        "color": "c5cc3653-2ee1-402a-aba2-7caae1da4f6c",
        "font-family": "Lato",
        "font-size": 5
       },
       "h5": {
        "font-family": "Lato"
       },
       "h6": {
        "font-family": "Lato"
       },
       "h7": {
        "font-family": "Lato"
       },
       "li": {
        "color": "50f92c45-a630-455b-aec3-788680ec7410",
        "font-size": 3.25
       },
       "pre": {
        "font-family": "Anonymous Pro",
        "font-size": 4
       }
      },
      "text-base": {
       "color": "19cc588f-0593-49c9-9f4b-e4d7cc113b1c",
       "font-family": "Lato",
       "font-size": 4
      }
     }
    }
   }
  }
 },
 "nbformat": 4,
 "nbformat_minor": 1
}
