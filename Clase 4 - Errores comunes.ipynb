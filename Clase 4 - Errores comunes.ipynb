{
 "cells": [
  {
   "cell_type": "markdown",
   "metadata": {},
   "source": [
    "# Errores más comunes y depuración"
   ]
  },
  {
   "cell_type": "markdown",
   "metadata": {},
   "source": [
    "Cada vez que programemos, al igual que pasa con cualquier cosa nueva que intentemos,\n",
    "nos encontraremos con errores. Esto también será cierto a medida que nuestros\n",
    "programas se vuelvan cada vez más complejos. Veremos entonces como es el proceso de\n",
    "_depuración_.\n",
    "\n",
    "Según [wikipedia](https://es.wikipedia.org/wiki/Depuraci%C3%B3n_de_programas): \n",
    "\n",
    "> La **depuración de programas** es el proceso de identificar y corregir errores de\n",
    "> programación. En inglés se conoce como _debugging_, porque se asemeja a la \n",
    "> eliminación de bichos (_bugs_), manera en que se conoce informalmente a los\n",
    "> errores de programación. "
   ]
  },
  {
   "cell_type": "markdown",
   "metadata": {},
   "source": [
    "## Traza Inversa _(Traceback)_\n",
    "\n",
    "Cuando ocurra un error en un programa, de modo tal de que no se pueda continuar, python se quejará y el interprete nos devolverá una **traza inverza**. Esta también puede ser llamada \"trazado de pila\", o en ingles _\"Traceback\"_. Esta nos brindará importante información sobre que sucedió.\n",
    "\n",
    "Veamos un ejemplo sencillo:"
   ]
  },
  {
   "cell_type": "code",
   "execution_count": 1,
   "metadata": {},
   "outputs": [
    {
     "ename": "NameError",
     "evalue": "name 'x' is not defined",
     "output_type": "error",
     "traceback": [
      "\u001b[0;31m---------------------------------------------------------------------------\u001b[0m",
      "\u001b[0;31mNameError\u001b[0m                                 Traceback (most recent call last)",
      "\u001b[0;32m<ipython-input-1-749174a2c3e6>\u001b[0m in \u001b[0;36m<module>\u001b[0;34m\u001b[0m\n\u001b[1;32m      2\u001b[0m \u001b[0mY\u001b[0m \u001b[0;34m=\u001b[0m \u001b[0;36m8\u001b[0m\u001b[0;34m\u001b[0m\u001b[0m\n\u001b[1;32m      3\u001b[0m \u001b[0;34m\u001b[0m\u001b[0m\n\u001b[0;32m----> 4\u001b[0;31m \u001b[0mprint\u001b[0m\u001b[0;34m(\u001b[0m\u001b[0mx\u001b[0m\u001b[0;34m+\u001b[0m\u001b[0my\u001b[0m\u001b[0;34m)\u001b[0m\u001b[0;34m\u001b[0m\u001b[0m\n\u001b[0m",
      "\u001b[0;31mNameError\u001b[0m: name 'x' is not defined"
     ]
    }
   ],
   "source": [
    "X = 5\n",
    "Y = 8\n",
    "\n",
    "print(x+y)"
   ]
  },
  {
   "cell_type": "markdown",
   "metadata": {},
   "source": [
    "En la primera linea de la salida vemos la palabra _Traceback_, que nos indica justamente el interprete nos está devolviendo una traza inversa.\n",
    "\n",
    "Vemos también en la primera linea el tipo de error, o de excepción, en este caso _NameError_.\n",
    "\n",
    "Después el interprete nos muestra las últimas lineas del programa y con una flecha (_---->_) nos indica en que lina sucedió el error.\n",
    "\n",
    "Y al final nos repite el tipo de error, y nos da una descripción, en inglés, de por qué sucedió."
   ]
  },
  {
   "cell_type": "markdown",
   "metadata": {},
   "source": [
    "## Errores comunes\n",
    "\n",
    "### Errores de tipeo y/o errores de mayúsculas y minúsculas\n",
    "\n",
    "Un caso muy común es que python no encuentre la variable o la función a la que estamos llamando. Eso implica que python se romperá debido a que no se puede operar con algo que no existe:"
   ]
  },
  {
   "cell_type": "code",
   "execution_count": 2,
   "metadata": {},
   "outputs": [
    {
     "ename": "NameError",
     "evalue": "name 'x' is not defined",
     "output_type": "error",
     "traceback": [
      "\u001b[0;31m---------------------------------------------------------------------------\u001b[0m",
      "\u001b[0;31mNameError\u001b[0m                                 Traceback (most recent call last)",
      "\u001b[0;32m<ipython-input-2-749174a2c3e6>\u001b[0m in \u001b[0;36m<module>\u001b[0;34m\u001b[0m\n\u001b[1;32m      2\u001b[0m \u001b[0mY\u001b[0m \u001b[0;34m=\u001b[0m \u001b[0;36m8\u001b[0m\u001b[0;34m\u001b[0m\u001b[0m\n\u001b[1;32m      3\u001b[0m \u001b[0;34m\u001b[0m\u001b[0m\n\u001b[0;32m----> 4\u001b[0;31m \u001b[0mprint\u001b[0m\u001b[0;34m(\u001b[0m\u001b[0mx\u001b[0m\u001b[0;34m+\u001b[0m\u001b[0my\u001b[0m\u001b[0;34m)\u001b[0m\u001b[0;34m\u001b[0m\u001b[0m\n\u001b[0m",
      "\u001b[0;31mNameError\u001b[0m: name 'x' is not defined"
     ]
    }
   ],
   "source": [
    "X = 5\n",
    "Y = 8\n",
    "\n",
    "print(x+y)"
   ]
  },
  {
   "cell_type": "markdown",
   "metadata": {},
   "source": [
    "En el ejemplo anterior vemos como el programador escribió en la definición de la variables los nombres con mayúscula (`X` e `Y`) y al llamarlas las escribió en minúscula (`x` e `y`). Esto provoca que python no encuentre la variable a la que se quiere llamar, generando un `NameError` (_error de nombre_)\n",
    "\n",
    "Para evitar este tipo de errores, en primer lugar hay que ser consistente entre mayúsculas y minúsculas. Lo segundo es usar nombres de variables más largos y descriptivos, lo cual me ayuda a ver rápidamente un error entre mayúsculas y minúsculas:\n",
    "\n",
    "```python\n",
    "numero_1 = 5\n",
    "numero_2 = 8\n",
    "\n",
    "print(Numero_1 + numero_2)\n",
    "```\n",
    "\n",
    "En este ejemplo se ve rapidamente la diferencia entre la N mayúscula y la minúscula, lo cual corregimos rapidamente:"
   ]
  },
  {
   "cell_type": "code",
   "execution_count": 3,
   "metadata": {},
   "outputs": [
    {
     "name": "stdout",
     "output_type": "stream",
     "text": [
      "13\n"
     ]
    }
   ],
   "source": [
    "numero_1 = 5\n",
    "numero_2 = 8\n",
    "\n",
    "print(numero_1 + numero_2)"
   ]
  },
  {
   "cell_type": "markdown",
   "metadata": {},
   "source": [
    "### Errores de syntaxis"
   ]
  },
  {
   "cell_type": "markdown",
   "metadata": {},
   "source": [
    "Otro error muy común en el que caemos son los errores de sintaxis:"
   ]
  },
  {
   "cell_type": "code",
   "execution_count": 4,
   "metadata": {},
   "outputs": [
    {
     "ename": "SyntaxError",
     "evalue": "EOL while scanning string literal (<ipython-input-4-31b9e232e95c>, line 1)",
     "output_type": "error",
     "traceback": [
      "\u001b[0;36m  File \u001b[0;32m\"<ipython-input-4-31b9e232e95c>\"\u001b[0;36m, line \u001b[0;32m1\u001b[0m\n\u001b[0;31m    print(\"Una cadena sin cerrar)\u001b[0m\n\u001b[0m                                 ^\u001b[0m\n\u001b[0;31mSyntaxError\u001b[0m\u001b[0;31m:\u001b[0m EOL while scanning string literal\n"
     ]
    }
   ],
   "source": [
    "print(\"Una cadena sin cerrar)\n",
    "\n",
    "print(\"Una cade con inconsistencia de comillas')\n",
    "\n",
    "print(\"Un print sin cerrar la llave\""
   ]
  },
  {
   "cell_type": "markdown",
   "metadata": {},
   "source": [
    "En este caso el `Trazado de pila` nos indica en la primera linea la linea donde sucedió el error (`line 1`) y con una flecha (`^`) nos muestra el lugar donde esta sucedió. Y nos aparecerá el `SyntaxError`.\n",
    "\n",
    "Veamos otro ejemplo:"
   ]
  },
  {
   "cell_type": "code",
   "execution_count": 5,
   "metadata": {},
   "outputs": [
    {
     "ename": "SyntaxError",
     "evalue": "invalid syntax (<ipython-input-5-5f166473c3b4>, line 3)",
     "output_type": "error",
     "traceback": [
      "\u001b[0;36m  File \u001b[0;32m\"<ipython-input-5-5f166473c3b4>\"\u001b[0;36m, line \u001b[0;32m3\u001b[0m\n\u001b[0;31m    if num%2 == 0\u001b[0m\n\u001b[0m                 ^\u001b[0m\n\u001b[0;31mSyntaxError\u001b[0m\u001b[0;31m:\u001b[0m invalid syntax\n"
     ]
    }
   ],
   "source": [
    "num = 4\n",
    "\n",
    "if num%2 == 0\n",
    "print (\"Es número par\")"
   ]
  },
  {
   "cell_type": "markdown",
   "metadata": {},
   "source": [
    "En este caso el error sintáctico fue el olvidarse de los `:` al final de la linea del `if`. Vemos también que al no haber dejado los `:`, el editor de Jupyter no  dejó los 4 espacios al comienzo de la linea siguiente.\n",
    "\n",
    "Para los errores de sintaxis no hay otra solución que un buen estudio de la sintaxis de python y estar atentos a la hora de programar. Y por supuesto, si no nos acordamos deberémos consultar la documentación."
   ]
  },
  {
   "cell_type": "markdown",
   "metadata": {},
   "source": [
    "### Errores de indendación\n",
    "\n",
    "Si arreglaramos los `:` en el ejemplo anterior, pero no corrigieramos los 4 espacios, nos encontraríamos con la excepción de `IndentationError`:"
   ]
  },
  {
   "cell_type": "code",
   "execution_count": 6,
   "metadata": {
    "scrolled": true
   },
   "outputs": [
    {
     "ename": "IndentationError",
     "evalue": "expected an indented block (<ipython-input-6-1f66ab6caf5d>, line 4)",
     "output_type": "error",
     "traceback": [
      "\u001b[0;36m  File \u001b[0;32m\"<ipython-input-6-1f66ab6caf5d>\"\u001b[0;36m, line \u001b[0;32m4\u001b[0m\n\u001b[0;31m    print (\"Es número par\")\u001b[0m\n\u001b[0m        ^\u001b[0m\n\u001b[0;31mIndentationError\u001b[0m\u001b[0;31m:\u001b[0m expected an indented block\n"
     ]
    }
   ],
   "source": [
    "num = 4\n",
    "\n",
    "if num%2 == 0:\n",
    "print (\"Es número par\")"
   ]
  },
  {
   "cell_type": "markdown",
   "metadata": {},
   "source": [
    "En este caso python, que hace obligatoria la indendación, se rompe al no encontrar código para ejecutar dentro del bloque del `if` (ya que el `print` se encuentra del bloque al no tener los 4 espacios).\n",
    "\n",
    "También nos podemos encontar este error al tener bloques de código indendados a cantidades de espacios inconsistentes:"
   ]
  },
  {
   "cell_type": "code",
   "execution_count": 8,
   "metadata": {},
   "outputs": [
    {
     "ename": "IndentationError",
     "evalue": "unindent does not match any outer indentation level (<tokenize>, line 5)",
     "output_type": "error",
     "traceback": [
      "\u001b[0;36m  File \u001b[0;32m\"<tokenize>\"\u001b[0;36m, line \u001b[0;32m5\u001b[0m\n\u001b[0;31m    print (\"Es número par\")\u001b[0m\n\u001b[0m    ^\u001b[0m\n\u001b[0;31mIndentationError\u001b[0m\u001b[0;31m:\u001b[0m unindent does not match any outer indentation level\n"
     ]
    }
   ],
   "source": [
    "num = 4\n",
    "\n",
    "if num%2 == 0:\n",
    "      print(\"El número ingresado es\", num)\n",
    "    print (\"Es número par\")"
   ]
  },
  {
   "cell_type": "code",
   "execution_count": 9,
   "metadata": {},
   "outputs": [
    {
     "ename": "IndentationError",
     "evalue": "unexpected indent (<ipython-input-9-41ee98ec0b53>, line 5)",
     "output_type": "error",
     "traceback": [
      "\u001b[0;36m  File \u001b[0;32m\"<ipython-input-9-41ee98ec0b53>\"\u001b[0;36m, line \u001b[0;32m5\u001b[0m\n\u001b[0;31m    print (\"Es número par\")\u001b[0m\n\u001b[0m    ^\u001b[0m\n\u001b[0;31mIndentationError\u001b[0m\u001b[0;31m:\u001b[0m unexpected indent\n"
     ]
    }
   ],
   "source": [
    "num = 4\n",
    "\n",
    "if num%2 == 0:\n",
    "    print(\"El número ingresado es\", num)\n",
    "      print (\"Es número par\")"
   ]
  },
  {
   "cell_type": "markdown",
   "metadata": {},
   "source": [
    "### Errores de tipo\n",
    "\n",
    "Los errores de tipo (`TypeError`) ocurren cuando no convertimos correctamente las variables antes de realizar una operación o tratamos de hacer operaciones incompatibles con el tipo de dato que ingresamos: "
   ]
  },
  {
   "cell_type": "code",
   "execution_count": 10,
   "metadata": {},
   "outputs": [
    {
     "name": "stdout",
     "output_type": "stream",
     "text": [
      "Escribe una temperatura (en celcius): 0\n"
     ]
    },
    {
     "ename": "TypeError",
     "evalue": "must be str, not int",
     "output_type": "error",
     "traceback": [
      "\u001b[0;31m---------------------------------------------------------------------------\u001b[0m",
      "\u001b[0;31mTypeError\u001b[0m                                 Traceback (most recent call last)",
      "\u001b[0;32m<ipython-input-10-f4418597ad93>\u001b[0m in \u001b[0;36m<module>\u001b[0;34m\u001b[0m\n\u001b[1;32m      1\u001b[0m \u001b[0mtemperatura_en_celcius\u001b[0m \u001b[0;34m=\u001b[0m \u001b[0minput\u001b[0m\u001b[0;34m(\u001b[0m\u001b[0;34m\"Escribe una temperatura (en celcius): \"\u001b[0m\u001b[0;34m)\u001b[0m\u001b[0;34m\u001b[0m\u001b[0m\n\u001b[1;32m      2\u001b[0m \u001b[0;34m\u001b[0m\u001b[0m\n\u001b[0;32m----> 3\u001b[0;31m \u001b[0mtemperatura_en_kelvin\u001b[0m \u001b[0;34m=\u001b[0m \u001b[0mtemperatura_en_celcius\u001b[0m \u001b[0;34m+\u001b[0m \u001b[0;36m273\u001b[0m\u001b[0;34m\u001b[0m\u001b[0m\n\u001b[0m\u001b[1;32m      4\u001b[0m \u001b[0;34m\u001b[0m\u001b[0m\n\u001b[1;32m      5\u001b[0m \u001b[0mprint\u001b[0m\u001b[0;34m(\u001b[0m\u001b[0;34m\"La temperatura en Kelvin es\"\u001b[0m\u001b[0;34m,\u001b[0m \u001b[0mtemperatura_en_kelvin\u001b[0m\u001b[0;34m)\u001b[0m\u001b[0;34m\u001b[0m\u001b[0m\n",
      "\u001b[0;31mTypeError\u001b[0m: must be str, not int"
     ]
    }
   ],
   "source": [
    "temperatura_en_celcius = input(\"Escribe una temperatura (en celcius): \")\n",
    "\n",
    "temperatura_en_kelvin = temperatura_en_celcius + 273\n",
    "\n",
    "print(\"La temperatura en Kelvin es\", temperatura_en_kelvin)"
   ]
  },
  {
   "cell_type": "code",
   "execution_count": 11,
   "metadata": {},
   "outputs": [
    {
     "name": "stdout",
     "output_type": "stream",
     "text": [
      "Ingrese un número: 8\n",
      "Ingrese otro número: 5\n"
     ]
    },
    {
     "ename": "TypeError",
     "evalue": "can't multiply sequence by non-int of type 'str'",
     "output_type": "error",
     "traceback": [
      "\u001b[0;31m---------------------------------------------------------------------------\u001b[0m",
      "\u001b[0;31mTypeError\u001b[0m                                 Traceback (most recent call last)",
      "\u001b[0;32m<ipython-input-11-d0bf1a5b0c5b>\u001b[0m in \u001b[0;36m<module>\u001b[0;34m\u001b[0m\n\u001b[1;32m      2\u001b[0m \u001b[0mnumero_2\u001b[0m \u001b[0;34m=\u001b[0m \u001b[0minput\u001b[0m\u001b[0;34m(\u001b[0m\u001b[0;34m\"Ingrese otro número: \"\u001b[0m\u001b[0;34m)\u001b[0m\u001b[0;34m\u001b[0m\u001b[0m\n\u001b[1;32m      3\u001b[0m \u001b[0;34m\u001b[0m\u001b[0m\n\u001b[0;32m----> 4\u001b[0;31m \u001b[0mprint\u001b[0m\u001b[0;34m(\u001b[0m\u001b[0;34m\"El producto de los dos número es\"\u001b[0m\u001b[0;34m,\u001b[0m\u001b[0mnumero_1\u001b[0m\u001b[0;34m*\u001b[0m\u001b[0mnumero_2\u001b[0m\u001b[0;34m)\u001b[0m\u001b[0;34m\u001b[0m\u001b[0m\n\u001b[0m",
      "\u001b[0;31mTypeError\u001b[0m: can't multiply sequence by non-int of type 'str'"
     ]
    }
   ],
   "source": [
    "numero_1 = input(\"Ingrese un número: \")\n",
    "numero_2 = input(\"Ingrese otro número: \")\n",
    "\n",
    "print(\"El producto de los dos número es\",numero_1*numero_2)"
   ]
  },
  {
   "cell_type": "markdown",
   "metadata": {},
   "source": [
    "Debemos acordarnos que la función `input`, al capturar el texto ingresado por teclado, nos devolverá un dato del tipo cadena (_string_) que luego debemos convertir.\n",
    "\n",
    "Para evitar este tipo de errores también es fundamental hacer un análisis del tipo de variable que necesitamos para resolver el problema antes de siquiera empezar a programar.\n",
    "\n",
    "Podemos ver más sobre excepciones en esta publicación de [mundo geek](http://mundogeek.net/archivos/2008/03/19/python-excepciones/)"
   ]
  },
  {
   "cell_type": "markdown",
   "metadata": {},
   "source": [
    "## Problemas con el notebook\n",
    "\n",
    "Estos problemas son propios del notebook de jupyter, que también suelen verse de forma más o menos frecuente.\n",
    "\n",
    "### Notebook que se cuelga\n",
    "\n",
    "Debido a algún error en nuestro programa podremos provocar que el notebook se cuelgue. Esto lo veremos de dos maneras:\n",
    "\n",
    "![Notebook colgado](Imagenes/NotebookColgado.png)\n",
    "\n",
    "En primer lugar arriba y a la derecha obsevamos el punto que nos indica que el kernel del notebook se encuentra trabajando: \n",
    "\n",
    "![Kernel trabajando](Imagenes/KernelBusy1.png).\n",
    "\n",
    "En cambio si estuviera en espera lo veremos en blanco: ![Kernel en espera](Imagenes/KernelIdle.png)\n",
    "\n",
    "Además vemos que la celda se continúa ejecutando `In [*]:`.\n",
    "\n",
    "Para estos casos, no queda otra que probar con el botón de [_stop_](Imagenes/Stop.png)(⬛) o el de [_reset_](Imagenes/Reset.png)(↻). Recordemos que si le damos _reset_, deberemos volver a correr todas las celdas de arriba a abajo. "
   ]
  },
  {
   "cell_type": "markdown",
   "metadata": {},
   "source": [
    "### Celdas ejecutadas en el orden incorrecto\n",
    "\n",
    "Veamos ahora las siguientes celdas:"
   ]
  },
  {
   "cell_type": "code",
   "execution_count": 13,
   "metadata": {},
   "outputs": [
    {
     "name": "stdout",
     "output_type": "stream",
     "text": [
      "Ingrese un número: 15\n",
      "Ingrese otro número: 25\n"
     ]
    }
   ],
   "source": [
    "numero_1 = input(\"Ingrese un número: \")\n",
    "numero_2 = input(\"Ingrese otro número: \")"
   ]
  },
  {
   "cell_type": "code",
   "execution_count": 12,
   "metadata": {},
   "outputs": [
    {
     "name": "stdout",
     "output_type": "stream",
     "text": [
      "La suma es 13.0\n"
     ]
    }
   ],
   "source": [
    "numero_1 = float(numero_1)\n",
    "numero_2 = float(numero_2)\n",
    "\n",
    "print(\"La suma es\", numero_1 +  numero_2)"
   ]
  },
  {
   "cell_type": "markdown",
   "metadata": {},
   "source": [
    "La respuesta obtenida (`13.0`) es muy distinta la desada (`40.0`). Esto se debe a que la celda de abajo  se ejecutó antes de la celda de arriba. Lo vemos en los número `[12]` y `[13]`, entonces el interprete de python utilizó la variable `numero_1` y `numero_2` de una celda anterior."
   ]
  },
  {
   "cell_type": "markdown",
   "metadata": {},
   "source": [
    "### Redefiniendo funciones\n",
    "\n",
    "Veamos lo que pasó en el siguiente ejemplo:\n",
    "\n",
    "![Redefiniendo print](Imagenes/RedefiniendoPrint.png)"
   ]
  },
  {
   "cell_type": "markdown",
   "metadata": {},
   "source": [
    "Acá debido a un error de escritura en la celda \\[1\\] se redefinió `print` de modo que ahora vale `5`, y a dejado de ser una función. Es por eso que no podemos llamarlo. Para este caso lo único que nos queda es corregir el error, reiniciar el kernel y volver a comenzar. "
   ]
  },
  {
   "cell_type": "markdown",
   "metadata": {},
   "source": [
    "## Estrategias de depuración\n",
    "\n",
    "Veremoa ahora algunas formas comúnes para depurar nuestros programas y evitar errores.\n",
    "\n",
    "### Prueba de escritorio\n",
    "\n",
    "Supongamos el siguiente ejemplo:\n",
    "\n",
    "##### Ejemplo 1\n",
    "\n",
    "Elabore un programa que sume todos los números pares entre el 1 y el 10 inclusive.\n",
    "\n",
    "Si elaboramos un flujograma con una resolución posíble tendríamos:\n",
    "\n",
    "![Flujograma Ejemplo 1](Diagramas/Ejemplo-Errores.png)"
   ]
  },
  {
   "cell_type": "markdown",
   "metadata": {},
   "source": [
    "Para comprobar si funciona bien nuestro algoritmo podemos hacer una tabla con las distintas partes del algoritmo. Lo que nos quedaría algo así:\n",
    "\n",
    "|  n  \t| sumatoria \t| n%2 \t| sumatoria+n \t| n+1 \t| Observaciones                                            \t|\n",
    "|:---:\t|:----------: \t|:---:\t|:-----------:\t|:---:\t|----------------------------------------------------------\t|\n",
    "|  1  \t|     0     \t|  -  \t|      -      \t|  -   \t| Antes de comenzar el bucle                               \t|\n",
    "|  1  \t|     0     \t|  1  \t|      -      \t|  2  \t|  n%2 es 1 por lo que no se   realiza la suma sumatoria+n \t|\n",
    "|  2  \t|     0     \t|  0  \t|      2      \t|  3  \t|                                                          \t|\n",
    "|  3  \t|     2     \t|  1  \t|      -      \t|  4  \t|                                                          \t|\n",
    "|  4  \t|     2     \t|  0  \t|      6      \t|  5  \t|                                                          \t|\n",
    "|  5  \t|     6     \t|  1  \t|      -      \t|  6  \t| Así continúa                                             \t|\n",
    "| ... \t|    ...    \t| ... \t|     ...     \t| ... \t| ...                                                      \t|\n",
    "\n",
    "\n",
    "Con esta tabla podemos comprobar el funcionamiento de nuestro algoritmo haciendo las operaciones como si fueramos la computadora. También podemos realizarlas con nuestro código."
   ]
  },
  {
   "cell_type": "markdown",
   "metadata": {},
   "source": [
    "### Uso de prints\n",
    "\n",
    "Si codificamos el flujograma anterior obtendremos:"
   ]
  },
  {
   "cell_type": "code",
   "execution_count": 14,
   "metadata": {},
   "outputs": [
    {
     "name": "stdout",
     "output_type": "stream",
     "text": [
      "La sumatoria de todos los pares es 30\n"
     ]
    }
   ],
   "source": [
    "n = 1\n",
    "sumatoria = 0\n",
    "\n",
    "while n <= 10:\n",
    "    if n%2 == 0:\n",
    "        sumatoria += n\n",
    "\n",
    "    n += 1\n",
    "\n",
    "print(\"La sumatoria de todos los pares es\", sumatoria)"
   ]
  },
  {
   "cell_type": "markdown",
   "metadata": {},
   "source": [
    "Ahora bien, si quisieramos entender un poco más como se modifican las variables adentro del código, podríamos agregar distintas series de `print` para ver esto:"
   ]
  },
  {
   "cell_type": "code",
   "execution_count": 15,
   "metadata": {},
   "outputs": [
    {
     "name": "stdout",
     "output_type": "stream",
     "text": [
      "n:  1\n",
      "sumatoria:  0\n",
      "\n",
      "n:  2\n",
      "2 es par\n",
      "sumatoria:  2\n",
      "\n",
      "n:  3\n",
      "sumatoria:  2\n",
      "\n",
      "n:  4\n",
      "4 es par\n",
      "sumatoria:  6\n",
      "\n",
      "n:  5\n",
      "sumatoria:  6\n",
      "\n",
      "n:  6\n",
      "6 es par\n",
      "sumatoria:  12\n",
      "\n",
      "n:  7\n",
      "sumatoria:  12\n",
      "\n",
      "n:  8\n",
      "8 es par\n",
      "sumatoria:  20\n",
      "\n",
      "n:  9\n",
      "sumatoria:  20\n",
      "\n",
      "n:  10\n",
      "10 es par\n",
      "sumatoria:  30\n",
      "\n",
      "La sumatoria de todos los pares es 30\n"
     ]
    }
   ],
   "source": [
    "n = 1\n",
    "sumatoria = 0\n",
    "\n",
    "while n <= 10:\n",
    "    print(\"n: \", n)\n",
    "    if n%2 == 0:\n",
    "        print(n, \"es par\")\n",
    "        sumatoria += n\n",
    "    \n",
    "    print(\"sumatoria: \",sumatoria)\n",
    "    print(\"\")\n",
    "    n += 1\n",
    "\n",
    "print(\"La sumatoria de todos los pares es\", sumatoria)"
   ]
  },
  {
   "cell_type": "markdown",
   "metadata": {},
   "source": [
    "Así podremos buscar errores y ver si nuestro código está haciendo realmente lo que querémos.\n",
    "\n",
    "Otras estratégias más avanzadas incluirían el uso del debuger de python (_pdb_) y/o un entorno integrado de desarrollo con inspectores de variables. Sin embargo esos contenidos exeden este curso."
   ]
  },
  {
   "cell_type": "markdown",
   "metadata": {},
   "source": [
    "### Depuración del patito de goma\n",
    "\n",
    "![Pato de goma](https://upload.wikimedia.org/wikipedia/commons/thumb/d/d5/Rubber_duck_assisting_with_debugging.jpg/480px-Rubber_duck_assisting_with_debugging.jpg)\n",
    "> [_Pato de goma asistiendo la deuparación_] De Tom Morris - Trabajo propio, CC BY-SA 3.0\n",
    "\n",
    "\n",
    "El método de [depuración del patito de goma] consiste en utilizar un objeto inanimado, en este caso un pato de goma, y explicar linea a linea que hace nuestro código. Así viendo la diferencia entre lo que el cóigo _debería_ hacer y lo que _realmente está escrito_, podrémos detectar los errores. \n",
    "\n",
    "Más allá del uso del objeto inanimado, la idea es leer y escribir nuestro código a conciencia, logran así comprender que es lo que se está haciendo.\n",
    "\n",
    "\n",
    "<!-- Links -->\n",
    "[_Pato de goma asistiendo la deuparación_]: https://commons.wikimedia.org/w/index.php?curid=16745966\n",
    "[depuración del patito de goma]: https://es.wikipedia.org/wiki/M%C3%A9todo_de_depuraci%C3%B3n_del_patito_de_goma"
   ]
  },
  {
   "cell_type": "markdown",
   "metadata": {},
   "source": [
    "## Palabras finales"
   ]
  },
  {
   "cell_type": "markdown",
   "metadata": {},
   "source": [
    "Finalmente parafraseando a [Noah Chelliah], la diferencia entre un Samurai y niños que juegan con cuchillos de cocina es que un Samurai sabe que está haciendo y por qué. Al apreder herramientas de programación estamos obteniendo una _Katana_, es por ello que debemos aprender a usarla.\n",
    "\n",
    "\n",
    "\n",
    "[Noah Chelliah]: https://podcast.asknoahshow.com/hosts/kernellinux"
   ]
  }
 ],
 "metadata": {
  "kernelspec": {
   "display_name": "Python 3",
   "language": "python",
   "name": "python3"
  },
  "language_info": {
   "codemirror_mode": {
    "name": "ipython",
    "version": 3
   },
   "file_extension": ".py",
   "mimetype": "text/x-python",
   "name": "python",
   "nbconvert_exporter": "python",
   "pygments_lexer": "ipython3",
   "version": "3.6.6"
  }
 },
 "nbformat": 4,
 "nbformat_minor": 2
}
