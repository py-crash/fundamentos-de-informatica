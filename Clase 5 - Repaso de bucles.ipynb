{
 "cells": [
  {
   "cell_type": "markdown",
   "metadata": {},
   "source": [
    "# Ejercicios de repaso de bucles\n",
    "\n",
    "Estos son una serie de ejercicios que sirven para complementar el aprendizaje así como las guías de trabajos prácticos de la cátedra."
   ]
  },
  {
   "cell_type": "markdown",
   "metadata": {},
   "source": [
    "### Ejercicio 0\n",
    "\n",
    "Escribe una función que imprima todos los numeros entre 5 y un numero ingresado"
   ]
  },
  {
   "cell_type": "markdown",
   "metadata": {},
   "source": [
    "### Ejercicio 1\n",
    "\n",
    "Hacer una función que imprima todos los números pares entre 0 y un número dado; y retorne la sumatoria"
   ]
  },
  {
   "cell_type": "markdown",
   "metadata": {},
   "source": [
    "### Ejercicio 2\n",
    "Hacer una función que imprima todos los números multiplos de 3, entre 0 y un número dado; y retorne la sumatoria"
   ]
  },
  {
   "cell_type": "markdown",
   "metadata": {},
   "source": [
    "### Ejercicio 3\n",
    "Haga una función que calcule el promedio de las notas de los parciales de 10 alumnos. Cada nota tiene que ser ingresada por el usuario"
   ]
  },
  {
   "cell_type": "markdown",
   "metadata": {},
   "source": [
    "### Ejercicio 4\n",
    "Al igual que el ejecicio 3, haga una función que calcule el promedio de las notas, pero esta vez que la cantidad de parciales sea ingresada por el usuario."
   ]
  },
  {
   "cell_type": "markdown",
   "metadata": {},
   "source": [
    "### Ejercicio 5: Números primos\n",
    "Escribir una función que diga si un número es primo o no"
   ]
  },
  {
   "cell_type": "markdown",
   "metadata": {},
   "source": [
    "### Ejercicio 6: La criba de Eratóstenes\n",
    "\n",
    "Hallar todos los números primos del 1 al 100"
   ]
  },
  {
   "cell_type": "markdown",
   "metadata": {},
   "source": [
    "### Ejercicio Desafío\n",
    "\n",
    "Dada la reación: Na(OH) + HCl --> NaCl + Agua. Cree varias funciónes de modo tal que el usuario ingrese la cantidad de muestras. Luego vaya ingresando la concentración de Hidroxido de sodio en Normal, y el programa le diga cuanto de solución de HCl 2N tiene que usar para neutralizarlo, suponiendo que todas las muestras tienen 10 ml."
   ]
  }
 ],
 "metadata": {
  "anaconda-cloud": {},
  "kernelspec": {
   "display_name": "Python 3",
   "language": "python",
   "name": "python3"
  },
  "language_info": {
   "codemirror_mode": {
    "name": "ipython",
    "version": 3
   },
   "file_extension": ".py",
   "mimetype": "text/x-python",
   "name": "python",
   "nbconvert_exporter": "python",
   "pygments_lexer": "ipython3",
   "version": "3.6.6"
  }
 },
 "nbformat": 4,
 "nbformat_minor": 1
}
